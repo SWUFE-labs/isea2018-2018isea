{
 "cells": [
  {
   "cell_type": "markdown",
   "metadata": {},
   "source": [
    "# ISEA python workshop day1\n",
    "---\n",
    "Python Basic\n",
    "\n",
    "1. input & output\n",
    "2. data type\n",
    "3. if-elif-else\n",
    "4. list, tuple\n",
    "5. loop\n",
    "6. set()\n",
    "7. dictionary\n",
    "8. function\n",
    "9. module\n",
    "10. Class\n",
    "11. try-except\n",
    "\n"
   ]
  },
  {
   "cell_type": "markdown",
   "metadata": {},
   "source": [
    "## 关键字\n",
    "\n",
    "<p class=\"alert alert-success\">\n",
    "\n",
    "开始介绍python之前，我们先了解下python的关键字，这些关键字是语言设计时定义好的，它们在程序中有着特殊的定义。\n",
    "\n",
    "所以，\n",
    "\n",
    "* 首先，它们是不能作为变量和函数的名称存在，再次对它们进行重定义，这也是它们有时候称为“保留字”的原因。\n",
    "* 其次，它们构成了python语言最基础的语言单词，这些字的各种组合使用，构成了我们丰富的python程序。\n",
    "\n",
    "python中的关键字有多少呢？\n",
    "\n",
    "</p>"
   ]
  },
  {
   "cell_type": "code",
   "execution_count": null,
   "metadata": {},
   "outputs": [],
   "source": [
    "help(\"keywords\")"
   ]
  },
  {
   "cell_type": "code",
   "execution_count": null,
   "metadata": {},
   "outputs": [],
   "source": [
    "help(\"yield\")"
   ]
  },
  {
   "cell_type": "code",
   "execution_count": null,
   "metadata": {},
   "outputs": [],
   "source": [
    "help(\"except\")"
   ]
  },
  {
   "cell_type": "markdown",
   "metadata": {},
   "source": [
    "? 关键字还会增加吗?"
   ]
  },
  {
   "cell_type": "markdown",
   "metadata": {},
   "source": [
    "## 1. input & Output\n",
    "---\n",
    "**输入与输出**\n",
    "\n",
    "输入与输出是所有计算和程序语言都有的基本功能要求。\n",
    "输入与输出包含两层含义，一层是指我们对于计算硬件的输入输出来讲，比如常见的屏幕，鼠标、键盘，还有很多专业的设备，比如传感器，比如绘图仪，比如打印机等。有些设备即是输入设备，也是输出设备，比如我们的网络接口，比如我们的手机屏幕。程序语言中的输入输出则更加抽象一些，更多的时候是与设备无关的，表示的信息传递的一个方向问题。如果简化来看，可以看作：\n",
    "\n",
    "\n",
    "    输入----->计算处理------>输出（输入）------>计算处理------->输出（输入）------>\n",
    "\n",
    "我们注意到，这里的输入输出也与我们现实生活中的事务处理类似，很多时候，一个计算的输出，同时也是另一个计算的输入。\n",
    "\n",
    "在Python语言中，\n",
    "* 最为常见的输入语句是input，用来引导```用户```提供信息；\n",
    "* 最为常见的输出语句是print，用来显示计算的结果或者提供格式化的输出形式，或者用于呈现计算的一个阶段成果，帮助用户更好地控制信息的呈现，及时了解到信息在传递过程中的各种变化等等，这是一个有着非常多参数的功能的函数。对于它的掌握，需要你去阅读python的文档，更多的练习。\n"
   ]
  },
  {
   "cell_type": "code",
   "execution_count": null,
   "metadata": {},
   "outputs": [],
   "source": [
    "help(input)"
   ]
  },
  {
   "cell_type": "code",
   "execution_count": null,
   "metadata": {},
   "outputs": [],
   "source": [
    "name = input(\"please intput your name: \")\n",
    "print(f\"Hello, {name}\")"
   ]
  },
  {
   "cell_type": "code",
   "execution_count": null,
   "metadata": {},
   "outputs": [],
   "source": [
    "name = input(\"please intput your name: \")\n",
    "print(f\"Hello, {name}\""
   ]
  },
  {
   "cell_type": "code",
   "execution_count": null,
   "metadata": {},
   "outputs": [],
   "source": [
    "name = input(\"please intput your name: \")\n",
    "print(f\"Hello, {name})"
   ]
  },
  {
   "cell_type": "code",
   "execution_count": null,
   "metadata": {},
   "outputs": [],
   "source": [
    "name = input(\"please intput your name: \")\n",
    "print(f\"Hello, name\")"
   ]
  },
  {
   "cell_type": "code",
   "execution_count": null,
   "metadata": {},
   "outputs": [],
   "source": [
    "name = input(\"please intput your name: \")\n",
    "print(f\"Hello, \" name)"
   ]
  },
  {
   "cell_type": "code",
   "execution_count": null,
   "metadata": {},
   "outputs": [],
   "source": [
    "name = input(\"please intput your name: \")\n",
    "print(\"Hello,{}\").format(name)"
   ]
  },
  {
   "cell_type": "code",
   "execution_count": null,
   "metadata": {},
   "outputs": [],
   "source": [
    "age= input(\"please intput your age: \")\n",
    "print(f\"your age is {age}.\")"
   ]
  },
  {
   "cell_type": "code",
   "execution_count": null,
   "metadata": {},
   "outputs": [],
   "source": [
    "name = input(\"please intput your name: \")\n",
    "age= input(\"please intput your age: \")\n",
    "student = True\n",
    "money = 3.1415\n",
    "print(f\"Hello, {name}, \\nyour age is {age}, \\nAre your  a student?{student}, your money is {money}\",end=\"\")\n",
    "print(\"******\")"
   ]
  },
  {
   "cell_type": "code",
   "execution_count": null,
   "metadata": {},
   "outputs": [],
   "source": [
    "print(__name__)"
   ]
  },
  {
   "cell_type": "code",
   "execution_count": null,
   "metadata": {},
   "outputs": [],
   "source": [
    "?print"
   ]
  },
  {
   "cell_type": "markdown",
   "metadata": {},
   "source": [
    "## 2. data type\n",
    "\n",
    "数据类型， python支持很多的数据类型，简单包括字符串，整数，浮点数、布尔值（True/False）等\n",
    "在具体使用中，注意不同类型的数据之间的转换关系。"
   ]
  },
  {
   "cell_type": "code",
   "execution_count": null,
   "metadata": {},
   "outputs": [],
   "source": [
    "# 下面的代码用于显示字符串类型\n",
    "c = \"Hello, ISEA, welcome to 505.\"\n",
    "print(c) # 显示c的值\n",
    "print(type(c)) # 显示c的数据类型"
   ]
  },
  {
   "cell_type": "markdown",
   "metadata": {},
   "source": [
    "<p class=\"alert alert-warning\" role=\"alert\">\n",
    "**注释的用法**\n",
    "\n",
    "在python语言中, 如果你在代码中需要添加一些说明，帮助你来说明某些参数的含义，语句的含义，函数的定义、使用等，它就是注释。\n",
    "\n",
    "> 注释是帮助人来更好地阅读和理解代码。它并不被作为代码执行。\n",
    "\n",
    "> 注释使用```#```, 可以单独一行，也可以放在语句的后面。\n",
    "\n",
    "</p>"
   ]
  },
  {
   "cell_type": "code",
   "execution_count": null,
   "metadata": {},
   "outputs": [],
   "source": [
    "# 下面的代码用于显示整数类型\n",
    "i = 8\n",
    "print(f\"{i}\")\n",
    "print(type(i))"
   ]
  },
  {
   "cell_type": "markdown",
   "metadata": {},
   "source": []
  },
  {
   "cell_type": "code",
   "execution_count": null,
   "metadata": {},
   "outputs": [],
   "source": [
    "# 下面的代码用于显示浮点数类型\n",
    "f = 8.00\n",
    "print(f\"{f}\")\n",
    "print(type(f))"
   ]
  },
  {
   "cell_type": "code",
   "execution_count": null,
   "metadata": {},
   "outputs": [],
   "source": [
    "# 下面的代码用于显示布尔值类型\n",
    "b = True\n",
    "print(f\"{b}\")\n",
    "print(type(b))"
   ]
  },
  {
   "cell_type": "code",
   "execution_count": null,
   "metadata": {},
   "outputs": [],
   "source": [
    "# 下面的代码显示python中空值，这是一个特殊的数据类型，表示空，没有，它也是一个关键字\n",
    "n = None\n",
    "print(f\"{n}\")\n",
    "print(type(n))"
   ]
  },
  {
   "cell_type": "markdown",
   "metadata": {},
   "source": [
    "**数据类型之间的转换**\n",
    "\n",
    "数据类型之间可以相互转换，需要使用对应的函数，比如```str(),int(),float(),boolen(),long(),complex()```等"
   ]
  },
  {
   "cell_type": "code",
   "execution_count": null,
   "metadata": {},
   "outputs": [],
   "source": [
    "# 将整数转换为浮点数\n",
    "i = 8\n",
    "i = float(i)\n",
    "print(f\"{i}\")\n",
    "print(type(i))"
   ]
  },
  {
   "cell_type": "code",
   "execution_count": null,
   "metadata": {},
   "outputs": [],
   "source": [
    "# 将浮点数转换为整数\n",
    "f = 8.956\n",
    "f = int(f)\n",
    "print(f\"{f}\")\n",
    "print(type(f))"
   ]
  },
  {
   "cell_type": "code",
   "execution_count": null,
   "metadata": {},
   "outputs": [],
   "source": [
    "# 将浮点数转换为字符串\n",
    "f = 8.956\n",
    "f = str(f)\n",
    "print(f\"{f}\")\n",
    "print(type(f))"
   ]
  },
  {
   "cell_type": "markdown",
   "metadata": {},
   "source": [
    "<p class=\"alert alert-warning\" role=\"alert\">练习各种类型的转换</p>"
   ]
  },
  {
   "cell_type": "markdown",
   "metadata": {},
   "source": [
    "**计算问题**\n",
    "\n",
    "各种类型的数据可以进行计算，比如字符串可以使用```+```,```*```,数值类型的可以使用更多的方法，布尔计算可以使用```add, or, not``` 等方法。\n",
    "\n",
    "大家可以找到python的文档自己练习。"
   ]
  },
  {
   "cell_type": "code",
   "execution_count": null,
   "metadata": {},
   "outputs": [],
   "source": [
    "a = \"ISEA\"\n",
    "b = \"2018\"\n",
    "a+b"
   ]
  },
  {
   "cell_type": "code",
   "execution_count": null,
   "metadata": {},
   "outputs": [],
   "source": [
    "(a+b+\"* \")*3 # 字符串重复三次"
   ]
  },
  {
   "cell_type": "code",
   "execution_count": null,
   "metadata": {},
   "outputs": [],
   "source": [
    "x=int(23)\n",
    "y=int(45)\n",
    "x*y"
   ]
  },
  {
   "cell_type": "code",
   "execution_count": null,
   "metadata": {},
   "outputs": [],
   "source": [
    "x/y"
   ]
  },
  {
   "cell_type": "code",
   "execution_count": null,
   "metadata": {},
   "outputs": [],
   "source": [
    "x**2"
   ]
  },
  {
   "cell_type": "code",
   "execution_count": null,
   "metadata": {},
   "outputs": [],
   "source": [
    "c = True\n",
    "d = False\n",
    "c and d"
   ]
  },
  {
   "cell_type": "code",
   "execution_count": null,
   "metadata": {},
   "outputs": [],
   "source": [
    "c or d"
   ]
  },
  {
   "cell_type": "code",
   "execution_count": null,
   "metadata": {},
   "outputs": [],
   "source": [
    "sin(x)"
   ]
  },
  {
   "cell_type": "code",
   "execution_count": null,
   "metadata": {},
   "outputs": [],
   "source": [
    "import math"
   ]
  },
  {
   "cell_type": "code",
   "execution_count": null,
   "metadata": {},
   "outputs": [],
   "source": [
    "math.sin(x)"
   ]
  },
  {
   "cell_type": "code",
   "execution_count": null,
   "metadata": {},
   "outputs": [],
   "source": [
    "math.pow(x,2)"
   ]
  },
  {
   "cell_type": "code",
   "execution_count": null,
   "metadata": {},
   "outputs": [],
   "source": [
    "math.sin(math.pi)"
   ]
  },
  {
   "cell_type": "markdown",
   "metadata": {},
   "source": [
    "\n",
    "python自带的计算功能基本可以满足简单的计算功能，如果需要强大的科学计算，则需要使用更多的python科学计算的库，比如```numpy, pandas```等等。\n",
    "\n",
    "![scipy](scipy.png)"
   ]
  },
  {
   "cell_type": "markdown",
   "metadata": {},
   "source": [
    "## 3. if-elif-else\n",
    "\n",
    "程序的执行是有顺序的，一般是按照程序的先后顺序进行。\n",
    "但很多时候，我们在程序设计中，遇到不同的条件时，会有不同的计算或处理结果，这时候，就出现了分支。这种分支，需要采用判断语句来处理。\n",
    "\n",
    "* 表达的是一种“条件关系”"
   ]
  },
  {
   "cell_type": "code",
   "execution_count": null,
   "metadata": {},
   "outputs": [],
   "source": [
    "x = 28\n",
    "if x>0:\n",
    "    print(\"x 是正数。\")\n",
    "elif x<0:\n",
    "    print(\"x 是负数。\")\n",
    "else:\n",
    "    print(\"x=0\")"
   ]
  },
  {
   "cell_type": "code",
   "execution_count": null,
   "metadata": {},
   "outputs": [],
   "source": [
    "x = int(input(\"请输入一个数字：\"))\n",
    "if x>0:\n",
    "    print(\"x 是正数。\")\n",
    "elif x<0:\n",
    "    print(\"x 是负数。\")\n",
    "else:\n",
    "    print(\"x=0\")"
   ]
  },
  {
   "cell_type": "markdown",
   "metadata": {},
   "source": [
    "<p class=\"alert alert-warning\" role=\"alert\">条件判断是程序设计中非常普遍的问题，请根据python的资料熟练掌握</p>"
   ]
  },
  {
   "cell_type": "markdown",
   "metadata": {},
   "source": [
    "## 4. list, tuple\n",
    "\n",
    "* list：列表\n",
    "* tuple： 元组\n",
    "\n",
    "这是python设计的数据类型，这种设计主要是为了更加方便的进行数据处理。这种设计是非常强大的，也是python的优点之一，一定要好好掌握。\n",
    "\n",
    "* list 表示的是一种“序列关系”\n"
   ]
  },
  {
   "cell_type": "code",
   "execution_count": null,
   "metadata": {},
   "outputs": [],
   "source": [
    "name = \"张三\"\n",
    "names = [\"张三\",\"李四\",\"王五\",15, 217, 42, True, False]\n",
    "coordinates = (10.0, 20.5)\n",
    "dim3 = (0.7, 1.4, 3.5)"
   ]
  },
  {
   "cell_type": "code",
   "execution_count": null,
   "metadata": {},
   "outputs": [],
   "source": [
    "print(type(name))"
   ]
  },
  {
   "cell_type": "code",
   "execution_count": null,
   "metadata": {},
   "outputs": [],
   "source": [
    "type(names)"
   ]
  },
  {
   "cell_type": "code",
   "execution_count": null,
   "metadata": {},
   "outputs": [],
   "source": [
    "type(coordinates)"
   ]
  },
  {
   "cell_type": "code",
   "execution_count": null,
   "metadata": {},
   "outputs": [],
   "source": [
    "type(dim3)"
   ]
  },
  {
   "cell_type": "code",
   "execution_count": null,
   "metadata": {},
   "outputs": [],
   "source": [
    "name[0]"
   ]
  },
  {
   "cell_type": "code",
   "execution_count": null,
   "metadata": {},
   "outputs": [],
   "source": [
    "name[1]"
   ]
  },
  {
   "cell_type": "code",
   "execution_count": null,
   "metadata": {},
   "outputs": [],
   "source": [
    "print(coordinates[0], coordinates[1])"
   ]
  },
  {
   "cell_type": "code",
   "execution_count": null,
   "metadata": {},
   "outputs": [],
   "source": [
    "print(dim3[:])"
   ]
  },
  {
   "cell_type": "code",
   "execution_count": null,
   "metadata": {},
   "outputs": [],
   "source": [
    "names"
   ]
  },
  {
   "cell_type": "code",
   "execution_count": null,
   "metadata": {},
   "outputs": [],
   "source": [
    "names[0]"
   ]
  },
  {
   "cell_type": "code",
   "execution_count": null,
   "metadata": {},
   "outputs": [],
   "source": [
    "names[0][0]"
   ]
  },
  {
   "cell_type": "code",
   "execution_count": null,
   "metadata": {},
   "outputs": [],
   "source": [
    "names[0][2]"
   ]
  },
  {
   "cell_type": "code",
   "execution_count": null,
   "metadata": {},
   "outputs": [],
   "source": [
    "names[3]"
   ]
  },
  {
   "cell_type": "code",
   "execution_count": null,
   "metadata": {},
   "outputs": [],
   "source": [
    "names[6]"
   ]
  },
  {
   "cell_type": "code",
   "execution_count": null,
   "metadata": {},
   "outputs": [],
   "source": [
    "names[6][0]"
   ]
  },
  {
   "cell_type": "code",
   "execution_count": null,
   "metadata": {},
   "outputs": [],
   "source": [
    "**可变和不可变的数据类型**\n",
    "\n",
    "列表和字符串的不同，主要表现在数据类型是否可变。\n",
    "* 列表可变，可变表示其中的值是可以改变的，比如增加，删除或更新等；\n",
    "* 字符串不可变，字符串不能重新赋值，一旦给定，就不可改变。"
   ]
  },
  {
   "cell_type": "code",
   "execution_count": null,
   "metadata": {},
   "outputs": [],
   "source": [
    "name = \"张三\"\n",
    "name[0]"
   ]
  },
  {
   "cell_type": "code",
   "execution_count": null,
   "metadata": {},
   "outputs": [],
   "source": [
    "name[0]=\"赵\""
   ]
  },
  {
   "cell_type": "code",
   "execution_count": null,
   "metadata": {},
   "outputs": [],
   "source": [
    "names = [\"张三\",\"李四\",\"王五\",15, 217, 42, True, False]\n",
    "names[0]"
   ]
  },
  {
   "cell_type": "code",
   "execution_count": null,
   "metadata": {},
   "outputs": [],
   "source": [
    "names[0]=\"赵二\"\n",
    "names"
   ]
  },
  {
   "cell_type": "code",
   "execution_count": null,
   "metadata": {},
   "outputs": [],
   "source": [
    "names.insert(1,\"张三\")\n",
    "names"
   ]
  },
  {
   "cell_type": "code",
   "execution_count": null,
   "metadata": {},
   "outputs": [],
   "source": [
    "names.append(\"李大\")\n",
    "names"
   ]
  },
  {
   "cell_type": "markdown",
   "metadata": {},
   "source": [
    "<div class=\"alert alert-warning\" role=\"alert\">\n",
    "练习：\n",
    "\n",
    "建立一个列表，进行列表的值的读取，添加，插入，删除等操作。\n",
    "</div>"
   ]
  },
  {
   "cell_type": "markdown",
   "metadata": {},
   "source": [
    "元组 tuple vs 列表\n",
    "\n",
    "* 元祖也是不变数据类型，也就是说它的值同字符串一样，一旦给定，就不可改变。\n",
    "* 元祖使用```()```来与列表的```[]```区别"
   ]
  },
  {
   "cell_type": "code",
   "execution_count": null,
   "metadata": {},
   "outputs": [],
   "source": [
    "coordinates = (10.0, 20.5)\n",
    "coordinates[1]"
   ]
  },
  {
   "cell_type": "code",
   "execution_count": null,
   "metadata": {},
   "outputs": [],
   "source": [
    "coordinates[1]=30.6"
   ]
  },
  {
   "cell_type": "code",
   "execution_count": null,
   "metadata": {},
   "outputs": [],
   "source": [
    "思考： 只有一个值的元组怎么来写？"
   ]
  },
  {
   "cell_type": "code",
   "execution_count": null,
   "metadata": {},
   "outputs": [],
   "source": [
    "s=(\"this is a tuple\",)\n",
    "m=('this is a tuple')\n",
    "print(s,type(s))\n",
    "print(m,type(m))"
   ]
  },
  {
   "cell_type": "markdown",
   "metadata": {},
   "source": [
    "<div class=\"alert alert-success\">\n",
    "list和tuple\n",
    "    \n",
    "一些常用方法：\n",
    "\n",
    "比如<code>len(), append(), insert(),remove(),sort()</code>等，这些方法是需要通过大量的练习来熟悉不同数据类型的特性和使用方法的。\n",
    "</div>"
   ]
  },
  {
   "cell_type": "markdown",
   "metadata": {},
   "source": [
    "## 5. loop  循环\n",
    "\n",
    "循环语句，顾名思义，就是让代码块一遍一遍地执行（一些重复性的计算或任务）。表达的是一种“迭代关系”。\n",
    "\n",
    "用于循环语句的用法主要有：\n",
    "* 使用while循环\n",
    "* 使用for循环\n",
    "\n"
   ]
  },
  {
   "cell_type": "markdown",
   "metadata": {},
   "source": [
    "### while循环\n",
    "\n",
    "只要while语句的条件判断是True， while子句中的代码就会执行。\n",
    "\n"
   ]
  },
  {
   "cell_type": "code",
   "execution_count": null,
   "metadata": {},
   "outputs": [],
   "source": [
    "a = 0\n",
    "while a <5:\n",
    "    print(\"Hello, ISEA. \")\n",
    "    a = a+1"
   ]
  },
  {
   "cell_type": "markdown",
   "metadata": {},
   "source": [
    "观察while语句有哪些要素，格式上有什么变化？"
   ]
  },
  {
   "cell_type": "code",
   "execution_count": null,
   "metadata": {},
   "outputs": [],
   "source": [
    "name = ''\n",
    "while name != 'tom':\n",
    "    print(\"Pleae input your name: \")\n",
    "    name = input()\n",
    "print(f\"welcome, {name}!\")"
   ]
  },
  {
   "cell_type": "code",
   "execution_count": null,
   "metadata": {},
   "outputs": [],
   "source": [
    "如果我们一直输入都不是tom，程序就会一直运行，怎么终止它呢？"
   ]
  },
  {
   "cell_type": "code",
   "execution_count": null,
   "metadata": {},
   "outputs": [],
   "source": [
    "# 使用break跳出循环\n",
    "while True:\n",
    "    print(\"Pleae input your name: \")\n",
    "    name = input()\n",
    "    if name == 'tom':\n",
    "        break\n",
    "print(f\"Thank you, {name}!\")"
   ]
  },
  {
   "cell_type": "code",
   "execution_count": null,
   "metadata": {},
   "outputs": [],
   "source": [
    "# 使用continue进入循环\n",
    "while True:\n",
    "    print(\"Pleae input your name: \")\n",
    "    name = input()\n",
    "    if name != 'tom':\n",
    "        continue\n",
    "print(f\"Thank you, {name}!\")"
   ]
  },
  {
   "cell_type": "markdown",
   "metadata": {},
   "source": [
    "比较以上两段代码，可以看到break和continue的区别"
   ]
  },
  {
   "cell_type": "markdown",
   "metadata": {},
   "source": [
    "### For循环\n",
    "\n",
    "有时候，我们希望循环的次数是我们希望的次数，这时候for循环就更加方便。\n"
   ]
  },
  {
   "cell_type": "code",
   "execution_count": null,
   "metadata": {},
   "outputs": [],
   "source": [
    "names"
   ]
  },
  {
   "cell_type": "code",
   "execution_count": null,
   "metadata": {},
   "outputs": [],
   "source": [
    "for name in names:\n",
    "    print(name)"
   ]
  },
  {
   "cell_type": "code",
   "execution_count": null,
   "metadata": {},
   "outputs": [],
   "source": [
    "for i in range(10, 100,5):\n",
    "    print(i)"
   ]
  },
  {
   "cell_type": "markdown",
   "metadata": {},
   "source": [
    "<div class=\"alert alert-warning\" role=\"alert\">\n",
    "如果要从95到10的顺序输出，怎么改写？\n",
    "</div>"
   ]
  },
  {
   "cell_type": "markdown",
   "metadata": {},
   "source": [
    "## 6. set()\n",
    "\n",
    "如果我们有一个列表，但是我们又不希望里面的数据有重复，怎么办？\n",
    "\n",
    "我们可以使用集合的概念。\n"
   ]
  },
  {
   "cell_type": "code",
   "execution_count": null,
   "metadata": {},
   "outputs": [],
   "source": [
    "isea_2018 =set() "
   ]
  },
  {
   "cell_type": "code",
   "execution_count": null,
   "metadata": {},
   "outputs": [],
   "source": [
    "isea_2018.add(\"张三\")\n",
    "isea_2018.add(\"李四\")\n",
    "isea_2018.add(\"王五\")\n",
    "isea_2018.add(\"郭靖\")\n",
    "isea_2018.add(\"黄蓉\")"
   ]
  },
  {
   "cell_type": "code",
   "execution_count": null,
   "metadata": {},
   "outputs": [],
   "source": [
    "print(isea_2018,type(isea_2018))"
   ]
  },
  {
   "cell_type": "code",
   "execution_count": null,
   "metadata": {},
   "outputs": [],
   "source": [
    "isea_2018.add(\"郭靖\")\n",
    "isea_2018.add(\"黄蓉\")\n",
    "isea_2018.add(\"洪七公\")"
   ]
  },
  {
   "cell_type": "code",
   "execution_count": null,
   "metadata": {},
   "outputs": [],
   "source": [
    "print(isea_2018,type(isea_2018))"
   ]
  },
  {
   "cell_type": "code",
   "execution_count": null,
   "metadata": {},
   "outputs": [],
   "source": [
    "isea_2018[0]"
   ]
  },
  {
   "cell_type": "markdown",
   "metadata": {},
   "source": [
    "<div class=\"alert alert-warning\" role=\"alert\">\n",
    "如何读取set的值，set有什么方法可以使用呢？请探讨？\n",
    "</div>"
   ]
  },
  {
   "cell_type": "code",
   "execution_count": null,
   "metadata": {},
   "outputs": [],
   "source": [
    "if \"洪七公\" in isea_2018:\n",
    "    print(\"ok\")\n"
   ]
  },
  {
   "cell_type": "markdown",
   "metadata": {},
   "source": [
    "<div class=\"alert alert-warning\" role=\"alert\">\n",
    "    更多的有关set的使用，请阅读python的文档进一步学习。https://docs.python.org/3.6/library/stdtypes.html#set\n",
    "<div>\n"
   ]
  },
  {
   "cell_type": "markdown",
   "metadata": {},
   "source": [
    "## 7. dictionary\n",
    "\n",
    "除了列表和元组之外，python还提供了一种对数据进行整理的数据格式，叫做字典类型。使用```{}```表示。\n",
    "\n",
    "字典表示的是一种“映射关系”。"
   ]
  },
  {
   "cell_type": "code",
   "execution_count": null,
   "metadata": {},
   "outputs": [],
   "source": [
    "ages = {\"张三\":22,\"李四\":34}\n",
    "ages"
   ]
  },
  {
   "cell_type": "code",
   "execution_count": null,
   "metadata": {},
   "outputs": [],
   "source": [
    "ages[\"张三\"]"
   ]
  },
  {
   "cell_type": "code",
   "execution_count": null,
   "metadata": {},
   "outputs": [],
   "source": [
    "ages[\"张三\"]=40"
   ]
  },
  {
   "cell_type": "code",
   "execution_count": null,
   "metadata": {},
   "outputs": [],
   "source": [
    "ages[\"张三\"]"
   ]
  },
  {
   "cell_type": "code",
   "execution_count": null,
   "metadata": {},
   "outputs": [],
   "source": [
    "office = {\"a\":101,\"b\":102,\"c\":405}\n",
    "print(office,type(office))"
   ]
  },
  {
   "cell_type": "markdown",
   "metadata": {},
   "source": [
    "<div class=\"alert alert-warning\" role=\"alert\">\n",
    "字典与列表有什么区别？\n",
    "</div>"
   ]
  },
  {
   "cell_type": "code",
   "execution_count": null,
   "metadata": {},
   "outputs": [],
   "source": [
    "# 字典的使用方法 keys(),values(),items()\n",
    "for i in office:\n",
    "    print(i)"
   ]
  },
  {
   "cell_type": "code",
   "execution_count": null,
   "metadata": {},
   "outputs": [],
   "source": [
    "for i in office.values():\n",
    "    print(i)"
   ]
  },
  {
   "cell_type": "code",
   "execution_count": null,
   "metadata": {},
   "outputs": [],
   "source": [
    "for i in office.items():\n",
    "    print(i)"
   ]
  },
  {
   "cell_type": "code",
   "execution_count": null,
   "metadata": {},
   "outputs": [],
   "source": [
    "\"d\" in office"
   ]
  },
  {
   "cell_type": "code",
   "execution_count": null,
   "metadata": {},
   "outputs": [],
   "source": [
    "office.get(\"a\")"
   ]
  },
  {
   "cell_type": "code",
   "execution_count": null,
   "metadata": {},
   "outputs": [],
   "source": [
    "office.get(\"d\")"
   ]
  },
  {
   "cell_type": "code",
   "execution_count": null,
   "metadata": {},
   "outputs": [],
   "source": [
    "office[\"a\"]"
   ]
  },
  {
   "cell_type": "code",
   "execution_count": null,
   "metadata": {},
   "outputs": [],
   "source": [
    "office[\"d\"]"
   ]
  },
  {
   "cell_type": "markdown",
   "metadata": {},
   "source": [
    " <div class=\"alert alert-warning\" role=\"alert\">\n",
    "更多字典用法，请查阅资料\n",
    "</div>"
   ]
  },
  {
   "cell_type": "markdown",
   "metadata": {},
   "source": [
    "## 8. function 函数\n",
    "\n",
    "函数是python中最常见的用法了。如果说python中的关键字是基础，那函数就是我们用这些基础搭建起来的实现某种特定功能的积木，这些积木可以帮助我们来完成各种各样的任务。\n",
    "\n",
    "* 函数使用```def```进行定义\n"
   ]
  },
  {
   "cell_type": "code",
   "execution_count": null,
   "metadata": {},
   "outputs": [],
   "source": [
    "def square(x):\n",
    "    return x*x\n",
    "\n",
    "for i in range(10):\n",
    "    print(\"{} squared is {}\".format(i,square(i))) # 老的写法"
   ]
  },
  {
   "cell_type": "code",
   "execution_count": null,
   "metadata": {},
   "outputs": [],
   "source": [
    "def square(x):\n",
    "    return x*x\n",
    "\n",
    "for i in range(10):\n",
    "    print(f\"{i} squared is {square(i)}\") # python 3.6 以后的改进写法"
   ]
  },
  {
   "cell_type": "markdown",
   "metadata": {},
   "source": [
    "<div class=\"alert alert-warning\" role=\"alert\">\n",
    "改变下代码的位置，函数定义放在程序后面，运行结果如何？\n",
    "</div>"
   ]
  },
  {
   "cell_type": "code",
   "execution_count": null,
   "metadata": {},
   "outputs": [],
   "source": [
    "for i in range(10):\n",
    "    print(f\"{i} squared is {squares(i)}\") # python 3.6 以后的改进写法\n",
    "    \n",
    "def squares(x):\n",
    "    return x*x"
   ]
  },
  {
   "cell_type": "markdown",
   "metadata": {},
   "source": [
    "<div class=\"alert alert-success\" role=\"success\">\n",
    "函数是python中最常用到的功能，特别是我们在使用python的各种库文件的时候，主要就是与各种函数打交道。\n",
    "\n",
    "对于函数的用法，需要阅读相关的库的帮助说明文档才能了解函数的具体用法。我们知道了函数的基本形态，就可以更好地理解函数及其用法。\n",
    "\n",
    "函数，就是一个具有一定功能的代码块。\n",
    "</div>"
   ]
  },
  {
   "cell_type": "markdown",
   "metadata": {},
   "source": [
    "函数调用函数"
   ]
  },
  {
   "cell_type": "code",
   "execution_count": null,
   "metadata": {},
   "outputs": [],
   "source": [
    "str(int(3.1415))"
   ]
  },
  {
   "cell_type": "markdown",
   "metadata": {},
   "source": [
    " 函数调用自己？"
   ]
  },
  {
   "cell_type": "code",
   "execution_count": null,
   "metadata": {},
   "outputs": [],
   "source": [
    "float(float(3.1415))"
   ]
  },
  {
   "cell_type": "markdown",
   "metadata": {},
   "source": [
    "### 递归函数？\n",
    "\n",
    "递归函数是一种函数调用自己的方法。同时，它代表的也是另一种“递归关系”"
   ]
  },
  {
   "cell_type": "code",
   "execution_count": null,
   "metadata": {},
   "outputs": [],
   "source": [
    "countdown(3)"
   ]
  },
  {
   "cell_type": "markdown",
   "metadata": {},
   "source": [
    "阶乘\n",
    "\n",
    "$$0！=1$$\n",
    "$$n!=n(n-1)!$$\n",
    "\n",
    "\n"
   ]
  },
  {
   "cell_type": "code",
   "execution_count": null,
   "metadata": {},
   "outputs": [],
   "source": [
    "def factorial(n):\n",
    "    if n == 0:\n",
    "        return 1\n",
    "    else:\n",
    "        recurse = factorial(n-1)\n",
    "        result = n* recurse\n",
    "        return result"
   ]
  },
  {
   "cell_type": "code",
   "execution_count": null,
   "metadata": {},
   "outputs": [],
   "source": [
    "factorial(3)"
   ]
  },
  {
   "cell_type": "code",
   "execution_count": null,
   "metadata": {},
   "outputs": [],
   "source": [
    "factorial(10)"
   ]
  },
  {
   "cell_type": "code",
   "execution_count": null,
   "metadata": {},
   "outputs": [],
   "source": [
    "factorial(5)"
   ]
  },
  {
   "cell_type": "code",
   "execution_count": null,
   "metadata": {},
   "outputs": [],
   "source": [
    "import time\n",
    "def countdown(n):\n",
    "    if n <=0:\n",
    "        print(\"倒计时结束\")\n",
    "    else:\n",
    "        print(n,end='')\n",
    "        time.sleep(1)\n",
    "        countdown(n-1)"
   ]
  },
  {
   "cell_type": "code",
   "execution_count": null,
   "metadata": {},
   "outputs": [],
   "source": [
    "countdown(10)"
   ]
  },
  {
   "cell_type": "markdown",
   "metadata": {},
   "source": [
    "## 9. module\n",
    "\n",
    "* 内建函数\n",
    "python程序可以调用一些基本的函数，比如```input(),print()``` 等，这些函数称为“内建函数”，是python主程序自带的。\n",
    "\n",
    "* 外建函数\n",
    "\n",
    "人们使用python开发了大量的函数，这些函数，极大地丰富了python的功能，让python使用更加方便，快捷和强大。\n",
    "任何人，都可以按照python的语法规则快速建设函数，方便自己使用。\n",
    "\n",
    "\n",
    "python提供了一种使用外建函数的方法，就是模块。\n",
    "\n",
    "* 一个模块，就是一个python程序。\n",
    "\n",
    "但这个程序中包含了一些函数，这些函数可以通过python的模块引入功能，嵌入到你的程序中使用。\n",
    "\n",
    "import语句包含以下部分：\n",
    "\n",
    "- import 关键字；\n",
    "- 模块的名称；\n",
    "- 可选的更多模块名称，中间用```,```隔开。\n",
    "\n"
   ]
  },
  {
   "cell_type": "code",
   "execution_count": null,
   "metadata": {},
   "outputs": [],
   "source": [
    "import random\n",
    "for i in range(5):\n",
    "    print(random.randint(i,10))"
   ]
  },
  {
   "cell_type": "code",
   "execution_count": null,
   "metadata": {},
   "outputs": [],
   "source": [
    "for i in range(5):\n",
    "    print(random.randint(i,10))"
   ]
  },
  {
   "cell_type": "code",
   "execution_count": null,
   "metadata": {},
   "outputs": [],
   "source": [
    "for i in range(5):\n",
    "    print(random.randint(i,10))"
   ]
  },
  {
   "cell_type": "code",
   "execution_count": null,
   "metadata": {},
   "outputs": [],
   "source": [
    "import os\n",
    "os.getcwd()"
   ]
  },
  {
   "cell_type": "markdown",
   "metadata": {},
   "source": [
    "<div class=\"alert alert-success\" role=\"success\">\n",
    "模块极大地丰富了python，随着越来越多的模块被开发出来，共享出来，python的功能也就更加强大。\n",
    "\n",
    "在python的学习中，我们更多是学习使用各种python的模块来帮助我们完成相关的计算和任务。\n",
    "\n",
    "有了丰富的模块，我们就不用自己来造轮子，而是需要思考如何创造更好的应用，更好的解决问题。这也是我们学习一门编程语言的目的。\n",
    "\n",
    "</div>"
   ]
  },
  {
   "cell_type": "markdown",
   "metadata": {},
   "source": [
    "## 10. Class 类\n",
    "\n",
    "函数是一种组织代码的方式。\n",
    "类，也是组织代码的一种方式。但这种方式代表的是“面向对象编程”的思想，代表的是组织代码和数据。\n",
    "\n",
    "类是一个很重要的概念，也是一个很大的话题。我们今天只是做最最基本的了解。\n",
    "\n",
    "类让我们可以自由地定义我们自己的数据类型（组织数据的方式）。\n",
    "\n"
   ]
  },
  {
   "cell_type": "code",
   "execution_count": null,
   "metadata": {},
   "outputs": [],
   "source": [
    "# 定义一个点\n",
    "class Point:\n",
    "    def init__(self,x,y):\n",
    "        self.x=x\n",
    "        self.y=y\n",
    "    "
   ]
  },
  {
   "cell_type": "code",
   "execution_count": null,
   "metadata": {},
   "outputs": [],
   "source": [
    "Point"
   ]
  },
  {
   "cell_type": "code",
   "execution_count": null,
   "metadata": {},
   "outputs": [],
   "source": [
    "p = Point()\n",
    "q = Point()"
   ]
  },
  {
   "cell_type": "code",
   "execution_count": null,
   "metadata": {},
   "outputs": [],
   "source": [
    "p.x=3\n",
    "p.y=4\n",
    "\n",
    "q.x=40.0\n",
    "q.y= -18.4"
   ]
  },
  {
   "cell_type": "code",
   "execution_count": null,
   "metadata": {},
   "outputs": [],
   "source": [
    "def print_point(p):\n",
    "    print(f'({p.x},{p.y})')\n",
    "\n",
    "print_point(p)\n",
    "print_point(q)"
   ]
  },
  {
   "cell_type": "markdown",
   "metadata": {},
   "source": [
    "## 11. try-except\n",
    "\n",
    "为什么程序会出错？\n",
    "\n",
    "程序出错了，怎么办？"
   ]
  },
  {
   "cell_type": "code",
   "execution_count": null,
   "metadata": {},
   "outputs": [],
   "source": [
    "print_point(m)"
   ]
  },
  {
   "cell_type": "code",
   "execution_count": null,
   "metadata": {},
   "outputs": [],
   "source": [
    "try:\n",
    "    print_point(m)\n",
    "except:\n",
    "    print(\"m 没有定义，需要重新定义\")\n",
    "\n",
    "print(\"****************\")"
   ]
  },
  {
   "cell_type": "code",
   "execution_count": null,
   "metadata": {},
   "outputs": [],
   "source": [
    "try:\n",
    "    print_point(q)\n",
    "except:\n",
    "    print(\"m 没有定义，需要重新定义\")\n",
    "\n",
    "print(\"****************\")"
   ]
  }
 ],
 "metadata": {
  "kernelspec": {
   "display_name": "Python 3",
   "language": "python",
   "name": "python3"
  },
  "language_info": {
   "codemirror_mode": {
    "name": "ipython",
    "version": 3
   },
   "file_extension": ".py",
   "mimetype": "text/x-python",
   "name": "python",
   "nbconvert_exporter": "python",
   "pygments_lexer": "ipython3",
   "version": "3.6.2"
  }
 },
 "nbformat": 4,
 "nbformat_minor": 2
}
