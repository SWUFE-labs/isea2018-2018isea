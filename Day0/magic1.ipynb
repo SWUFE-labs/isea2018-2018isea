{
 "cells": [
  {
   "cell_type": "code",
   "execution_count": 1,
   "metadata": {},
   "outputs": [],
   "source": [
    "import numpy as np"
   ]
  },
  {
   "cell_type": "code",
   "execution_count": 2,
   "metadata": {},
   "outputs": [
    {
     "name": "stdout",
     "output_type": "stream",
     "text": [
      "4.27 ms ± 91.1 µs per loop (mean ± std. dev. of 7 runs, 100 loops each)\n"
     ]
    }
   ],
   "source": [
    "%timeit np.linalg.eigvals(np.random.rand(100,100))"
   ]
  },
  {
   "cell_type": "code",
   "execution_count": 3,
   "metadata": {},
   "outputs": [
    {
     "name": "stdout",
     "output_type": "stream",
     "text": [
      "4.24 ms ± 30.5 µs per loop (mean ± std. dev. of 7 runs, 100 loops each)\n"
     ]
    }
   ],
   "source": [
    "%%timeit\n",
    "a = np.random.rand(100,100)\n",
    "np.linalg.eigvals(a)"
   ]
  },
  {
   "cell_type": "code",
   "execution_count": 4,
   "metadata": {},
   "outputs": [
    {
     "data": {
      "application/json": {
       "cell": {
        "!": "OSMagics",
        "HTML": "Other",
        "SVG": "Other",
        "bash": "Other",
        "capture": "ExecutionMagics",
        "debug": "ExecutionMagics",
        "file": "Other",
        "html": "DisplayMagics",
        "javascript": "DisplayMagics",
        "js": "DisplayMagics",
        "latex": "DisplayMagics",
        "markdown": "DisplayMagics",
        "perl": "Other",
        "prun": "ExecutionMagics",
        "pypy": "Other",
        "python": "Other",
        "python2": "Other",
        "python3": "Other",
        "ruby": "Other",
        "script": "ScriptMagics",
        "sh": "Other",
        "svg": "DisplayMagics",
        "sx": "OSMagics",
        "system": "OSMagics",
        "time": "ExecutionMagics",
        "timeit": "ExecutionMagics",
        "writefile": "OSMagics"
       },
       "line": {
        "alias": "OSMagics",
        "alias_magic": "BasicMagics",
        "autocall": "AutoMagics",
        "automagic": "AutoMagics",
        "autosave": "KernelMagics",
        "bookmark": "OSMagics",
        "cat": "Other",
        "cd": "OSMagics",
        "clear": "KernelMagics",
        "colors": "BasicMagics",
        "config": "ConfigMagics",
        "connect_info": "KernelMagics",
        "cp": "Other",
        "debug": "ExecutionMagics",
        "dhist": "OSMagics",
        "dirs": "OSMagics",
        "doctest_mode": "BasicMagics",
        "ed": "Other",
        "edit": "KernelMagics",
        "env": "OSMagics",
        "gui": "BasicMagics",
        "hist": "Other",
        "history": "HistoryMagics",
        "killbgscripts": "ScriptMagics",
        "ldir": "Other",
        "less": "KernelMagics",
        "lf": "Other",
        "lk": "Other",
        "ll": "Other",
        "load": "CodeMagics",
        "load_ext": "ExtensionMagics",
        "loadpy": "CodeMagics",
        "logoff": "LoggingMagics",
        "logon": "LoggingMagics",
        "logstart": "LoggingMagics",
        "logstate": "LoggingMagics",
        "logstop": "LoggingMagics",
        "ls": "Other",
        "lsmagic": "BasicMagics",
        "lx": "Other",
        "macro": "ExecutionMagics",
        "magic": "BasicMagics",
        "man": "KernelMagics",
        "matplotlib": "PylabMagics",
        "mkdir": "Other",
        "more": "KernelMagics",
        "mv": "Other",
        "notebook": "BasicMagics",
        "page": "BasicMagics",
        "pastebin": "CodeMagics",
        "pdb": "ExecutionMagics",
        "pdef": "NamespaceMagics",
        "pdoc": "NamespaceMagics",
        "pfile": "NamespaceMagics",
        "pinfo": "NamespaceMagics",
        "pinfo2": "NamespaceMagics",
        "pip": "BasicMagics",
        "popd": "OSMagics",
        "pprint": "BasicMagics",
        "precision": "BasicMagics",
        "profile": "BasicMagics",
        "prun": "ExecutionMagics",
        "psearch": "NamespaceMagics",
        "psource": "NamespaceMagics",
        "pushd": "OSMagics",
        "pwd": "OSMagics",
        "pycat": "OSMagics",
        "pylab": "PylabMagics",
        "qtconsole": "KernelMagics",
        "quickref": "BasicMagics",
        "recall": "HistoryMagics",
        "rehashx": "OSMagics",
        "reload_ext": "ExtensionMagics",
        "rep": "Other",
        "rerun": "HistoryMagics",
        "reset": "NamespaceMagics",
        "reset_selective": "NamespaceMagics",
        "rm": "Other",
        "rmdir": "Other",
        "run": "ExecutionMagics",
        "save": "CodeMagics",
        "sc": "OSMagics",
        "set_env": "OSMagics",
        "store": "StoreMagics",
        "sx": "OSMagics",
        "system": "OSMagics",
        "tb": "ExecutionMagics",
        "time": "ExecutionMagics",
        "timeit": "ExecutionMagics",
        "unalias": "OSMagics",
        "unload_ext": "ExtensionMagics",
        "who": "NamespaceMagics",
        "who_ls": "NamespaceMagics",
        "whos": "NamespaceMagics",
        "xdel": "NamespaceMagics",
        "xmode": "BasicMagics"
       }
      },
      "text/plain": [
       "Available line magics:\n",
       "%alias  %alias_magic  %autocall  %automagic  %autosave  %bookmark  %cat  %cd  %clear  %colors  %config  %connect_info  %cp  %debug  %dhist  %dirs  %doctest_mode  %ed  %edit  %env  %gui  %hist  %history  %killbgscripts  %ldir  %less  %lf  %lk  %ll  %load  %load_ext  %loadpy  %logoff  %logon  %logstart  %logstate  %logstop  %ls  %lsmagic  %lx  %macro  %magic  %man  %matplotlib  %mkdir  %more  %mv  %notebook  %page  %pastebin  %pdb  %pdef  %pdoc  %pfile  %pinfo  %pinfo2  %popd  %pprint  %precision  %profile  %prun  %psearch  %psource  %pushd  %pwd  %pycat  %pylab  %qtconsole  %quickref  %recall  %rehashx  %reload_ext  %rep  %rerun  %reset  %reset_selective  %rm  %rmdir  %run  %save  %sc  %set_env  %store  %sx  %system  %tb  %time  %timeit  %unalias  %unload_ext  %who  %who_ls  %whos  %xdel  %xmode\n",
       "\n",
       "Available cell magics:\n",
       "%%!  %%HTML  %%SVG  %%bash  %%capture  %%debug  %%file  %%html  %%javascript  %%js  %%latex  %%markdown  %%perl  %%prun  %%pypy  %%python  %%python2  %%python3  %%ruby  %%script  %%sh  %%svg  %%sx  %%system  %%time  %%timeit  %%writefile\n",
       "\n",
       "Automagic is ON, % prefix IS NOT needed for line magics."
      ]
     },
     "execution_count": 4,
     "metadata": {},
     "output_type": "execute_result"
    }
   ],
   "source": [
    "%lsmagic"
   ]
  },
  {
   "cell_type": "code",
   "execution_count": 12,
   "metadata": {},
   "outputs": [
    {
     "data": {
      "text/html": [
       "<html>\n",
       "    <body>\n",
       "    <p style=\"color:red\">this is a sample</p>\n",
       "    <mark>apple</mark>\n",
       "    <kbd>CTRL+A</kbd>\n",
       "    <p>this is a code:</p>\n",
       "    <code>\n",
       "        import numpy as np\n",
       "        np.random.rand(100,100)\n",
       "    </code>\n",
       "    </body>\n",
       "</html>\n",
       "    "
      ],
      "text/plain": [
       "<IPython.core.display.HTML object>"
      ]
     },
     "metadata": {},
     "output_type": "display_data"
    }
   ],
   "source": [
    "%%HTML\n",
    "<html>\n",
    "    <body>\n",
    "    <p style=\"color:red\">this is a sample</p>\n",
    "    <mark>apple</mark>\n",
    "    <kbd>CTRL+A</kbd>\n",
    "    <p>this is a code:</p>\n",
    "    <code>\n",
    "        import numpy as np\n",
    "        np.random.rand(100,100)\n",
    "    </code>\n",
    "    </body>\n",
    "</html>\n",
    "    "
   ]
  },
  {
   "cell_type": "code",
   "execution_count": 13,
   "metadata": {},
   "outputs": [
    {
     "data": {
      "text/plain": [
       "['/Users/xubin/0000codetest/isea']"
      ]
     },
     "execution_count": 13,
     "metadata": {},
     "output_type": "execute_result"
    }
   ],
   "source": [
    "%%!\n",
    "pwd"
   ]
  },
  {
   "cell_type": "code",
   "execution_count": 14,
   "metadata": {},
   "outputs": [
    {
     "name": "stdout",
     "output_type": "stream",
     "text": [
      "/Users/xubin/0000codetest/isea\r\n"
     ]
    }
   ],
   "source": [
    "!pwd"
   ]
  },
  {
   "cell_type": "code",
   "execution_count": 16,
   "metadata": {},
   "outputs": [
    {
     "name": "stdout",
     "output_type": "stream",
     "text": [
      "/Users/xubin/0000codetest/isea\n",
      "total 168\n",
      "drwxr-xr-x    8 xubin  admin    256 11 22 00:37 .\n",
      "drwxr-xr-x  154 xubin  admin   4928 11 21 23:51 ..\n",
      "drwxr-xr-x    7 xubin  admin    224 11 22 00:34 .ipynb_checkpoints\n",
      "-rw-r--r--    1 xubin  admin   1966 11 22 00:05 An Interesting Wee Widget.ipynb\n",
      "-rw-r--r--    1 xubin  admin  39122 11 22 00:28 SWUFE map.ipynb\n",
      "-rw-r--r--    1 xubin  admin   7992 11 22 00:37 magic1.ipynb\n",
      "-rw-r--r--@   1 xubin  admin  27694 11 21 23:56 nature.ipynb\n",
      "-rw-r--r--    1 xubin  admin   1709 11 22 00:15 未命名.ipynb\n"
     ]
    }
   ],
   "source": [
    "%%bash\n",
    "pwd\n",
    "ls -la"
   ]
  },
  {
   "cell_type": "markdown",
   "metadata": {},
   "source": [
    "## notebook API"
   ]
  },
  {
   "cell_type": "code",
   "execution_count": 17,
   "metadata": {},
   "outputs": [],
   "source": [
    "from nbformat import current_nbformat"
   ]
  },
  {
   "cell_type": "code",
   "execution_count": 18,
   "metadata": {},
   "outputs": [
    {
     "data": {
      "text/plain": [
       "4"
      ]
     },
     "execution_count": 18,
     "metadata": {},
     "output_type": "execute_result"
    }
   ],
   "source": [
    "current_nbformat"
   ]
  },
  {
   "cell_type": "code",
   "execution_count": 19,
   "metadata": {},
   "outputs": [],
   "source": [
    "from nbformat import versions"
   ]
  },
  {
   "cell_type": "code",
   "execution_count": 21,
   "metadata": {},
   "outputs": [
    {
     "data": {
      "text/plain": [
       "{1: <module 'nbformat.v1' from '/Users/xubin/anaconda/lib/python3.6/site-packages/nbformat/v1/__init__.py'>,\n",
       " 2: <module 'nbformat.v2' from '/Users/xubin/anaconda/lib/python3.6/site-packages/nbformat/v2/__init__.py'>,\n",
       " 3: <module 'nbformat.v3' from '/Users/xubin/anaconda/lib/python3.6/site-packages/nbformat/v3/__init__.py'>,\n",
       " 4: <module 'nbformat.v4' from '/Users/xubin/anaconda/lib/python3.6/site-packages/nbformat/v4/__init__.py'>}"
      ]
     },
     "execution_count": 21,
     "metadata": {},
     "output_type": "execute_result"
    }
   ],
   "source": [
    "versions"
   ]
  },
  {
   "cell_type": "code",
   "execution_count": 36,
   "metadata": {},
   "outputs": [],
   "source": [
    "from nbformat import v4 as nbf\n",
    "from nbformat import read as nbf_read\n",
    "from nbformat import NO_CONVERT"
   ]
  },
  {
   "cell_type": "code",
   "execution_count": 24,
   "metadata": {},
   "outputs": [],
   "source": [
    "nb = nbf_read('nature.ipynb',as_version=4)"
   ]
  },
  {
   "cell_type": "code",
   "execution_count": 25,
   "metadata": {},
   "outputs": [
    {
     "data": {
      "text/plain": [
       "[{'cell_type': 'code',\n",
       "  'execution_count': 1,\n",
       "  'metadata': {},\n",
       "  'outputs': [{'data': {'image/png': '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\\n',\n",
       "     'text/plain': '<matplotlib.figure.Figure at 0x106f62c88>'},\n",
       "    'metadata': {},\n",
       "    'output_type': 'display_data'}],\n",
       "  'source': \"# Import matplotlib (plotting) and numpy (numerical arrays).\\n# This enables their use in the Notebook.\\n%matplotlib inline\\nimport matplotlib.pyplot as plt \\nimport numpy as np\\n\\n# Create an array of 30 values for x equally spaced from 0 to 5. \\nx = np.linspace(0, 5, 30)\\ny = x**2\\n\\n# Plot y versus x\\nfig, ax = plt.subplots(nrows=1, ncols=1)\\nax.plot(x, y, color='red')\\nax.set_xlabel('x')\\nax.set_ylabel('y')\\nax.set_title('A simple graph of $y=x^2$');\"},\n",
       " {'cell_type': 'code',\n",
       "  'execution_count': 6,\n",
       "  'metadata': {},\n",
       "  'outputs': [{'data': {'application/vnd.jupyter.widget-view+json': {'model_id': '4d7e58ed328b4cfe9908c3b691c49539',\n",
       "      'version_major': 2,\n",
       "      'version_minor': 0},\n",
       "     'text/plain': 'A Jupyter Widget'},\n",
       "    'metadata': {},\n",
       "    'output_type': 'display_data'}],\n",
       "  'source': '# Import matplotlib (plotting) and numpy (numerical arrays).\\n# This enables their use in the Notebook.\\n%matplotlib inline\\nimport matplotlib.pyplot as plt\\nimport numpy as np\\n\\n# Import IPython\\'s interact function which is used below to\\n# build the interactive widgets\\n#from IPython.html.widgets import interact\\nimport notebook\\nfrom ipywidgets import interact\\n\\ndef plot_sine(frequency=4.0, grid_points=12, plot_original=True):\\n    \"\"\"\\n    Plot discrete samples of a sine wave on the interval ``[0, 1]``.\\n    \"\"\"\\n    x = np.linspace(0, 1, grid_points + 2)\\n    y = np.sin(2 * frequency * np.pi * x)\\n\\n    xf = np.linspace(0, 1, 1000)\\n    yf = np.sin(2 * frequency * np.pi * xf)\\n\\n    fig, ax = plt.subplots(figsize=(8, 6))\\n    ax.set_xlabel(\\'x\\')\\n    ax.set_ylabel(\\'signal\\')\\n    ax.set_title(\\'Aliasing in discretely sampled periodic signal\\')\\n\\n    if plot_original:\\n        ax.plot(xf, yf, color=\\'red\\', linestyle=\\'solid\\', linewidth=2)\\n\\n    ax.plot(x,  y,  marker=\\'o\\', linewidth=2)\\n\\n# The interact function automatically builds a user interface for exploring the\\n# plot_sine function.\\ninteract(plot_sine, frequency=(1.0, 22.0, 0.5), grid_points=(10, 16, 1), plot_original=True);'},\n",
       " {'cell_type': 'code',\n",
       "  'execution_count': 7,\n",
       "  'metadata': {},\n",
       "  'outputs': [{'data': {'application/vnd.jupyter.widget-view+json': {'model_id': 'e4752ee69c8d4f4fadf444e8748df2ae',\n",
       "      'version_major': 2,\n",
       "      'version_minor': 0},\n",
       "     'text/plain': 'A Jupyter Widget'},\n",
       "    'metadata': {},\n",
       "    'output_type': 'display_data'}],\n",
       "  'source': '# Import matplotlib (plotting), skimage (image processing) and interact (user interfaces)\\n# This enables their use in the Notebook.\\n%matplotlib inline\\nfrom matplotlib import pyplot as plt\\n\\nfrom skimage import data\\nfrom skimage.feature import blob_doh\\nfrom skimage.color import rgb2gray\\n\\n#from IPython.html.widgets import interact, fixed\\nfrom ipywidgets import interact, fixed\\n\\n# Extract the first 500px square of the Hubble Deep Field.\\nimage = data.hubble_deep_field()[0:500, 0:500]\\nimage_gray = rgb2gray(image)\\n\\ndef plot_blobs(max_sigma=30, threshold=0.1, gray=False):\\n    \"\"\"\\n    Plot the image and the blobs that have been found.\\n    \"\"\"\\n    blobs = blob_doh(image_gray, max_sigma=max_sigma, threshold=threshold)\\n    \\n    fig, ax = plt.subplots(figsize=(8,8))\\n    ax.set_title(\\'Galaxies in the Hubble Deep Field\\')\\n    \\n    if gray:\\n        ax.imshow(image_gray, interpolation=\\'nearest\\', cmap=\\'gray_r\\')\\n        circle_color = \\'red\\'\\n    else:\\n        ax.imshow(image, interpolation=\\'nearest\\')\\n        circle_color = \\'yellow\\'\\n    for blob in blobs:\\n        y, x, r = blob\\n        c = plt.Circle((x, y), r, color=circle_color, linewidth=2, fill=False)\\n        ax.add_patch(c)\\n\\n# Use interact to explore the galaxy detection algorithm.\\ninteract(plot_blobs, max_sigma=(10, 40, 2), threshold=(0.005, 0.02, 0.001));'}]"
      ]
     },
     "execution_count": 25,
     "metadata": {},
     "output_type": "execute_result"
    }
   ],
   "source": [
    "code_cells = list(filter(lambda c: c['cell_type'] == 'code', nb.cells))\n",
    "code_cells"
   ]
  },
  {
   "cell_type": "code",
   "execution_count": 26,
   "metadata": {},
   "outputs": [],
   "source": [
    "last_cell = code_cells[-1]"
   ]
  },
  {
   "cell_type": "code",
   "execution_count": 27,
   "metadata": {},
   "outputs": [
    {
     "data": {
      "text/plain": [
       "{'cell_type': 'code',\n",
       " 'execution_count': 7,\n",
       " 'metadata': {},\n",
       " 'outputs': [{'data': {'application/vnd.jupyter.widget-view+json': {'model_id': 'e4752ee69c8d4f4fadf444e8748df2ae',\n",
       "     'version_major': 2,\n",
       "     'version_minor': 0},\n",
       "    'text/plain': 'A Jupyter Widget'},\n",
       "   'metadata': {},\n",
       "   'output_type': 'display_data'}],\n",
       " 'source': '# Import matplotlib (plotting), skimage (image processing) and interact (user interfaces)\\n# This enables their use in the Notebook.\\n%matplotlib inline\\nfrom matplotlib import pyplot as plt\\n\\nfrom skimage import data\\nfrom skimage.feature import blob_doh\\nfrom skimage.color import rgb2gray\\n\\n#from IPython.html.widgets import interact, fixed\\nfrom ipywidgets import interact, fixed\\n\\n# Extract the first 500px square of the Hubble Deep Field.\\nimage = data.hubble_deep_field()[0:500, 0:500]\\nimage_gray = rgb2gray(image)\\n\\ndef plot_blobs(max_sigma=30, threshold=0.1, gray=False):\\n    \"\"\"\\n    Plot the image and the blobs that have been found.\\n    \"\"\"\\n    blobs = blob_doh(image_gray, max_sigma=max_sigma, threshold=threshold)\\n    \\n    fig, ax = plt.subplots(figsize=(8,8))\\n    ax.set_title(\\'Galaxies in the Hubble Deep Field\\')\\n    \\n    if gray:\\n        ax.imshow(image_gray, interpolation=\\'nearest\\', cmap=\\'gray_r\\')\\n        circle_color = \\'red\\'\\n    else:\\n        ax.imshow(image, interpolation=\\'nearest\\')\\n        circle_color = \\'yellow\\'\\n    for blob in blobs:\\n        y, x, r = blob\\n        c = plt.Circle((x, y), r, color=circle_color, linewidth=2, fill=False)\\n        ax.add_patch(c)\\n\\n# Use interact to explore the galaxy detection algorithm.\\ninteract(plot_blobs, max_sigma=(10, 40, 2), threshold=(0.005, 0.02, 0.001));'}"
      ]
     },
     "execution_count": 27,
     "metadata": {},
     "output_type": "execute_result"
    }
   ],
   "source": [
    "last_cell"
   ]
  },
  {
   "cell_type": "code",
   "execution_count": 38,
   "metadata": {},
   "outputs": [],
   "source": [
    "new_output_cell = nbf.new_output('stream', text='Hello, ISEA!')\n",
    "new_code_cell = nbf.new_code_cell( source=\"print('Hello, ISEA!')\")"
   ]
  },
  {
   "cell_type": "code",
   "execution_count": 39,
   "metadata": {},
   "outputs": [],
   "source": [
    "last_cell = code_cells[-1]"
   ]
  },
  {
   "cell_type": "code",
   "execution_count": 40,
   "metadata": {},
   "outputs": [],
   "source": [
    "last_cell.source = \"print('Hello, ISEA!')\"\n",
    "last_cell.outputs.append(new_output_cell)\n",
    "last_cell.metadata['collapsed'] = False"
   ]
  },
  {
   "cell_type": "code",
   "execution_count": 41,
   "metadata": {},
   "outputs": [
    {
     "data": {
      "text/plain": [
       "{'cell_type': 'code',\n",
       " 'execution_count': 7,\n",
       " 'metadata': {'collapsed': False},\n",
       " 'outputs': [{'data': {'application/vnd.jupyter.widget-view+json': {'model_id': 'e4752ee69c8d4f4fadf444e8748df2ae',\n",
       "     'version_major': 2,\n",
       "     'version_minor': 0},\n",
       "    'text/plain': 'A Jupyter Widget'},\n",
       "   'metadata': {},\n",
       "   'output_type': 'display_data'},\n",
       "  {'name': 'stdout', 'output_type': 'stream', 'text': 'Hello, ISEA!'}],\n",
       " 'source': \"print('Hello, ISEA!')\"}"
      ]
     },
     "execution_count": 41,
     "metadata": {},
     "output_type": "execute_result"
    }
   ],
   "source": [
    "last_cell"
   ]
  },
  {
   "cell_type": "code",
   "execution_count": null,
   "metadata": {},
   "outputs": [],
   "source": []
  }
 ],
 "metadata": {
  "kernelspec": {
   "display_name": "Python 3",
   "language": "python",
   "name": "python3"
  },
  "language_info": {
   "codemirror_mode": {
    "name": "ipython",
    "version": 3
   },
   "file_extension": ".py",
   "mimetype": "text/x-python",
   "name": "python",
   "nbconvert_exporter": "python",
   "pygments_lexer": "ipython3",
   "version": "3.6.2"
  }
 },
 "nbformat": 4,
 "nbformat_minor": 2
}
