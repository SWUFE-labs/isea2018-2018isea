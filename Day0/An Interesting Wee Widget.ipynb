{
 "cells": [
  {
   "cell_type": "markdown",
   "metadata": {},
   "source": [
    "# An Interesting Wee Widget"
   ]
  },
  {
   "cell_type": "code",
   "execution_count": 5,
   "metadata": {},
   "outputs": [
    {
     "data": {
      "application/vnd.jupyter.widget-view+json": {
       "model_id": "7e2517e9b0b84f4a92236ede70a462e0",
       "version_major": 2,
       "version_minor": 0
      },
      "text/plain": [
       "A Jupyter Widget"
      ]
     },
     "metadata": {},
     "output_type": "display_data"
    }
   ],
   "source": [
    "%matplotlib inline\n",
    "#%pylab inline\n",
    "plt.xkcd()\n",
    "import matplotlib.pyplot as plt\n",
    "from numpy import pi, exp, real, imag, linspace\n",
    "from ipywidgets import interact\n",
    "\n",
    "def f(t,a=1,b=6,c=-14,d=0):\n",
    "    return exp(a*1j*t) - exp(b*1j*t)/2 + 1j*exp(c*1j*t)/3 + exp(d*1j*t)/ 4\n",
    "\n",
    "def plot_swirly(a=1,b=6,c=-14,d=0):\n",
    "    t = linspace(0, 2*pi, 1000)\n",
    "    ft = f(t,a,b,c,d)\n",
    "    plt.plot(real(ft), imag(ft))\n",
    "    \n",
    "    # These two lines make the aspect ratio square\n",
    "    fig = plt.gcf()\n",
    "    fig.set_size_inches(6, 6, forward='True')\n",
    "\n",
    "interact(plot_swirly,a=(-20,20),b=(-20,20),c=(-20,20),d=(-20,20));"
   ]
  },
  {
   "cell_type": "code",
   "execution_count": null,
   "metadata": {},
   "outputs": [],
   "source": []
  },
  {
   "cell_type": "code",
   "execution_count": null,
   "metadata": {},
   "outputs": [],
   "source": []
  }
 ],
 "metadata": {
  "kernelspec": {
   "display_name": "Python 3",
   "language": "python",
   "name": "python3"
  },
  "language_info": {
   "codemirror_mode": {
    "name": "ipython",
    "version": 3
   },
   "file_extension": ".py",
   "mimetype": "text/x-python",
   "name": "python",
   "nbconvert_exporter": "python",
   "pygments_lexer": "ipython3",
   "version": "3.6.2"
  }
 },
 "nbformat": 4,
 "nbformat_minor": 2
}
