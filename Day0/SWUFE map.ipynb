{
 "cells": [
  {
   "cell_type": "markdown",
   "metadata": {},
   "source": [
    "# SWUFE map"
   ]
  },
  {
   "cell_type": "code",
   "execution_count": 36,
   "metadata": {},
   "outputs": [
    {
     "data": {
      "application/vnd.jupyter.widget-view+json": {
       "model_id": "377ab46d6c5d4903932dc68c1b4d542d",
       "version_major": 2,
       "version_minor": 0
      },
      "text/plain": [
       "A Jupyter Widget"
      ]
     },
     "metadata": {},
     "output_type": "display_data"
    },
    {
     "ename": "TypeError",
     "evalue": "_handle_leaflet_event() takes 3 positional arguments but 4 were given",
     "output_type": "error",
     "traceback": [
      "\u001b[0;31m---------------------------------------------------------------------------\u001b[0m",
      "\u001b[0;31mTypeError\u001b[0m                                 Traceback (most recent call last)",
      "\u001b[0;31mTypeError\u001b[0m: _handle_leaflet_event() takes 3 positional arguments but 4 were given"
     ]
    },
    {
     "ename": "TypeError",
     "evalue": "_handle_leaflet_event() takes 3 positional arguments but 4 were given",
     "output_type": "error",
     "traceback": [
      "\u001b[0;31m---------------------------------------------------------------------------\u001b[0m",
      "\u001b[0;31mTypeError\u001b[0m                                 Traceback (most recent call last)",
      "\u001b[0;31mTypeError\u001b[0m: _handle_leaflet_event() takes 3 positional arguments but 4 were given"
     ]
    },
    {
     "ename": "TypeError",
     "evalue": "_handle_leaflet_event() takes 3 positional arguments but 4 were given",
     "output_type": "error",
     "traceback": [
      "\u001b[0;31m---------------------------------------------------------------------------\u001b[0m",
      "\u001b[0;31mTypeError\u001b[0m                                 Traceback (most recent call last)",
      "\u001b[0;31mTypeError\u001b[0m: _handle_leaflet_event() takes 3 positional arguments but 4 were given"
     ]
    },
    {
     "ename": "TypeError",
     "evalue": "_handle_leaflet_event() takes 3 positional arguments but 4 were given",
     "output_type": "error",
     "traceback": [
      "\u001b[0;31m---------------------------------------------------------------------------\u001b[0m",
      "\u001b[0;31mTypeError\u001b[0m                                 Traceback (most recent call last)",
      "\u001b[0;31mTypeError\u001b[0m: _handle_leaflet_event() takes 3 positional arguments but 4 were given"
     ]
    },
    {
     "ename": "TypeError",
     "evalue": "_handle_leaflet_event() takes 3 positional arguments but 4 were given",
     "output_type": "error",
     "traceback": [
      "\u001b[0;31m---------------------------------------------------------------------------\u001b[0m",
      "\u001b[0;31mTypeError\u001b[0m                                 Traceback (most recent call last)",
      "\u001b[0;31mTypeError\u001b[0m: _handle_leaflet_event() takes 3 positional arguments but 4 were given"
     ]
    },
    {
     "ename": "TypeError",
     "evalue": "_handle_leaflet_event() takes 3 positional arguments but 4 were given",
     "output_type": "error",
     "traceback": [
      "\u001b[0;31m---------------------------------------------------------------------------\u001b[0m",
      "\u001b[0;31mTypeError\u001b[0m                                 Traceback (most recent call last)",
      "\u001b[0;31mTypeError\u001b[0m: _handle_leaflet_event() takes 3 positional arguments but 4 were given"
     ]
    },
    {
     "ename": "TypeError",
     "evalue": "_handle_leaflet_event() takes 3 positional arguments but 4 were given",
     "output_type": "error",
     "traceback": [
      "\u001b[0;31m---------------------------------------------------------------------------\u001b[0m",
      "\u001b[0;31mTypeError\u001b[0m                                 Traceback (most recent call last)",
      "\u001b[0;31mTypeError\u001b[0m: _handle_leaflet_event() takes 3 positional arguments but 4 were given"
     ]
    },
    {
     "ename": "TypeError",
     "evalue": "_handle_leaflet_event() takes 3 positional arguments but 4 were given",
     "output_type": "error",
     "traceback": [
      "\u001b[0;31m---------------------------------------------------------------------------\u001b[0m",
      "\u001b[0;31mTypeError\u001b[0m                                 Traceback (most recent call last)",
      "\u001b[0;31mTypeError\u001b[0m: _handle_leaflet_event() takes 3 positional arguments but 4 were given"
     ]
    },
    {
     "ename": "TypeError",
     "evalue": "_handle_leaflet_event() takes 3 positional arguments but 4 were given",
     "output_type": "error",
     "traceback": [
      "\u001b[0;31m---------------------------------------------------------------------------\u001b[0m",
      "\u001b[0;31mTypeError\u001b[0m                                 Traceback (most recent call last)",
      "\u001b[0;31mTypeError\u001b[0m: _handle_leaflet_event() takes 3 positional arguments but 4 were given"
     ]
    },
    {
     "ename": "TypeError",
     "evalue": "_handle_leaflet_event() takes 3 positional arguments but 4 were given",
     "output_type": "error",
     "traceback": [
      "\u001b[0;31m---------------------------------------------------------------------------\u001b[0m",
      "\u001b[0;31mTypeError\u001b[0m                                 Traceback (most recent call last)",
      "\u001b[0;31mTypeError\u001b[0m: _handle_leaflet_event() takes 3 positional arguments but 4 were given"
     ]
    },
    {
     "ename": "TypeError",
     "evalue": "_handle_leaflet_event() takes 3 positional arguments but 4 were given",
     "output_type": "error",
     "traceback": [
      "\u001b[0;31m---------------------------------------------------------------------------\u001b[0m",
      "\u001b[0;31mTypeError\u001b[0m                                 Traceback (most recent call last)",
      "\u001b[0;31mTypeError\u001b[0m: _handle_leaflet_event() takes 3 positional arguments but 4 were given"
     ]
    },
    {
     "ename": "TypeError",
     "evalue": "_handle_leaflet_event() takes 3 positional arguments but 4 were given",
     "output_type": "error",
     "traceback": [
      "\u001b[0;31m---------------------------------------------------------------------------\u001b[0m",
      "\u001b[0;31mTypeError\u001b[0m                                 Traceback (most recent call last)",
      "\u001b[0;31mTypeError\u001b[0m: _handle_leaflet_event() takes 3 positional arguments but 4 were given"
     ]
    },
    {
     "ename": "TypeError",
     "evalue": "_handle_leaflet_event() takes 3 positional arguments but 4 were given",
     "output_type": "error",
     "traceback": [
      "\u001b[0;31m---------------------------------------------------------------------------\u001b[0m",
      "\u001b[0;31mTypeError\u001b[0m                                 Traceback (most recent call last)",
      "\u001b[0;31mTypeError\u001b[0m: _handle_leaflet_event() takes 3 positional arguments but 4 were given"
     ]
    },
    {
     "ename": "TypeError",
     "evalue": "_handle_leaflet_event() takes 3 positional arguments but 4 were given",
     "output_type": "error",
     "traceback": [
      "\u001b[0;31m---------------------------------------------------------------------------\u001b[0m",
      "\u001b[0;31mTypeError\u001b[0m                                 Traceback (most recent call last)",
      "\u001b[0;31mTypeError\u001b[0m: _handle_leaflet_event() takes 3 positional arguments but 4 were given"
     ]
    },
    {
     "ename": "TypeError",
     "evalue": "_handle_leaflet_event() takes 3 positional arguments but 4 were given",
     "output_type": "error",
     "traceback": [
      "\u001b[0;31m---------------------------------------------------------------------------\u001b[0m",
      "\u001b[0;31mTypeError\u001b[0m                                 Traceback (most recent call last)",
      "\u001b[0;31mTypeError\u001b[0m: _handle_leaflet_event() takes 3 positional arguments but 4 were given"
     ]
    },
    {
     "ename": "TypeError",
     "evalue": "_handle_leaflet_event() takes 3 positional arguments but 4 were given",
     "output_type": "error",
     "traceback": [
      "\u001b[0;31m---------------------------------------------------------------------------\u001b[0m",
      "\u001b[0;31mTypeError\u001b[0m                                 Traceback (most recent call last)",
      "\u001b[0;31mTypeError\u001b[0m: _handle_leaflet_event() takes 3 positional arguments but 4 were given"
     ]
    },
    {
     "ename": "TypeError",
     "evalue": "_handle_leaflet_event() takes 3 positional arguments but 4 were given",
     "output_type": "error",
     "traceback": [
      "\u001b[0;31m---------------------------------------------------------------------------\u001b[0m",
      "\u001b[0;31mTypeError\u001b[0m                                 Traceback (most recent call last)",
      "\u001b[0;31mTypeError\u001b[0m: _handle_leaflet_event() takes 3 positional arguments but 4 were given"
     ]
    },
    {
     "ename": "TypeError",
     "evalue": "_handle_leaflet_event() takes 3 positional arguments but 4 were given",
     "output_type": "error",
     "traceback": [
      "\u001b[0;31m---------------------------------------------------------------------------\u001b[0m",
      "\u001b[0;31mTypeError\u001b[0m                                 Traceback (most recent call last)",
      "\u001b[0;31mTypeError\u001b[0m: _handle_leaflet_event() takes 3 positional arguments but 4 were given"
     ]
    },
    {
     "ename": "TypeError",
     "evalue": "_handle_leaflet_event() takes 3 positional arguments but 4 were given",
     "output_type": "error",
     "traceback": [
      "\u001b[0;31m---------------------------------------------------------------------------\u001b[0m",
      "\u001b[0;31mTypeError\u001b[0m                                 Traceback (most recent call last)",
      "\u001b[0;31mTypeError\u001b[0m: _handle_leaflet_event() takes 3 positional arguments but 4 were given"
     ]
    },
    {
     "ename": "TypeError",
     "evalue": "_handle_leaflet_event() takes 3 positional arguments but 4 were given",
     "output_type": "error",
     "traceback": [
      "\u001b[0;31m---------------------------------------------------------------------------\u001b[0m",
      "\u001b[0;31mTypeError\u001b[0m                                 Traceback (most recent call last)",
      "\u001b[0;31mTypeError\u001b[0m: _handle_leaflet_event() takes 3 positional arguments but 4 were given"
     ]
    },
    {
     "ename": "TypeError",
     "evalue": "_handle_leaflet_event() takes 3 positional arguments but 4 were given",
     "output_type": "error",
     "traceback": [
      "\u001b[0;31m---------------------------------------------------------------------------\u001b[0m",
      "\u001b[0;31mTypeError\u001b[0m                                 Traceback (most recent call last)",
      "\u001b[0;31mTypeError\u001b[0m: _handle_leaflet_event() takes 3 positional arguments but 4 were given"
     ]
    },
    {
     "ename": "TypeError",
     "evalue": "_handle_leaflet_event() takes 3 positional arguments but 4 were given",
     "output_type": "error",
     "traceback": [
      "\u001b[0;31m---------------------------------------------------------------------------\u001b[0m",
      "\u001b[0;31mTypeError\u001b[0m                                 Traceback (most recent call last)",
      "\u001b[0;31mTypeError\u001b[0m: _handle_leaflet_event() takes 3 positional arguments but 4 were given"
     ]
    },
    {
     "ename": "TypeError",
     "evalue": "_handle_leaflet_event() takes 3 positional arguments but 4 were given",
     "output_type": "error",
     "traceback": [
      "\u001b[0;31m---------------------------------------------------------------------------\u001b[0m",
      "\u001b[0;31mTypeError\u001b[0m                                 Traceback (most recent call last)",
      "\u001b[0;31mTypeError\u001b[0m: _handle_leaflet_event() takes 3 positional arguments but 4 were given"
     ]
    },
    {
     "ename": "TypeError",
     "evalue": "_handle_leaflet_event() takes 3 positional arguments but 4 were given",
     "output_type": "error",
     "traceback": [
      "\u001b[0;31m---------------------------------------------------------------------------\u001b[0m",
      "\u001b[0;31mTypeError\u001b[0m                                 Traceback (most recent call last)",
      "\u001b[0;31mTypeError\u001b[0m: _handle_leaflet_event() takes 3 positional arguments but 4 were given"
     ]
    },
    {
     "ename": "TypeError",
     "evalue": "_handle_leaflet_event() takes 3 positional arguments but 4 were given",
     "output_type": "error",
     "traceback": [
      "\u001b[0;31m---------------------------------------------------------------------------\u001b[0m",
      "\u001b[0;31mTypeError\u001b[0m                                 Traceback (most recent call last)",
      "\u001b[0;31mTypeError\u001b[0m: _handle_leaflet_event() takes 3 positional arguments but 4 were given"
     ]
    },
    {
     "ename": "TypeError",
     "evalue": "_handle_leaflet_event() takes 3 positional arguments but 4 were given",
     "output_type": "error",
     "traceback": [
      "\u001b[0;31m---------------------------------------------------------------------------\u001b[0m",
      "\u001b[0;31mTypeError\u001b[0m                                 Traceback (most recent call last)",
      "\u001b[0;31mTypeError\u001b[0m: _handle_leaflet_event() takes 3 positional arguments but 4 were given"
     ]
    },
    {
     "ename": "TypeError",
     "evalue": "_handle_leaflet_event() takes 3 positional arguments but 4 were given",
     "output_type": "error",
     "traceback": [
      "\u001b[0;31m---------------------------------------------------------------------------\u001b[0m",
      "\u001b[0;31mTypeError\u001b[0m                                 Traceback (most recent call last)",
      "\u001b[0;31mTypeError\u001b[0m: _handle_leaflet_event() takes 3 positional arguments but 4 were given"
     ]
    },
    {
     "ename": "TypeError",
     "evalue": "_handle_leaflet_event() takes 3 positional arguments but 4 were given",
     "output_type": "error",
     "traceback": [
      "\u001b[0;31m---------------------------------------------------------------------------\u001b[0m",
      "\u001b[0;31mTypeError\u001b[0m                                 Traceback (most recent call last)",
      "\u001b[0;31mTypeError\u001b[0m: _handle_leaflet_event() takes 3 positional arguments but 4 were given"
     ]
    },
    {
     "ename": "TypeError",
     "evalue": "_handle_leaflet_event() takes 3 positional arguments but 4 were given",
     "output_type": "error",
     "traceback": [
      "\u001b[0;31m---------------------------------------------------------------------------\u001b[0m",
      "\u001b[0;31mTypeError\u001b[0m                                 Traceback (most recent call last)",
      "\u001b[0;31mTypeError\u001b[0m: _handle_leaflet_event() takes 3 positional arguments but 4 were given"
     ]
    },
    {
     "ename": "TypeError",
     "evalue": "_handle_leaflet_event() takes 3 positional arguments but 4 were given",
     "output_type": "error",
     "traceback": [
      "\u001b[0;31m---------------------------------------------------------------------------\u001b[0m",
      "\u001b[0;31mTypeError\u001b[0m                                 Traceback (most recent call last)",
      "\u001b[0;31mTypeError\u001b[0m: _handle_leaflet_event() takes 3 positional arguments but 4 were given"
     ]
    },
    {
     "ename": "TypeError",
     "evalue": "_handle_leaflet_event() takes 3 positional arguments but 4 were given",
     "output_type": "error",
     "traceback": [
      "\u001b[0;31m---------------------------------------------------------------------------\u001b[0m",
      "\u001b[0;31mTypeError\u001b[0m                                 Traceback (most recent call last)",
      "\u001b[0;31mTypeError\u001b[0m: _handle_leaflet_event() takes 3 positional arguments but 4 were given"
     ]
    },
    {
     "ename": "TypeError",
     "evalue": "_handle_leaflet_event() takes 3 positional arguments but 4 were given",
     "output_type": "error",
     "traceback": [
      "\u001b[0;31m---------------------------------------------------------------------------\u001b[0m",
      "\u001b[0;31mTypeError\u001b[0m                                 Traceback (most recent call last)",
      "\u001b[0;31mTypeError\u001b[0m: _handle_leaflet_event() takes 3 positional arguments but 4 were given"
     ]
    },
    {
     "ename": "TypeError",
     "evalue": "_handle_leaflet_event() takes 3 positional arguments but 4 were given",
     "output_type": "error",
     "traceback": [
      "\u001b[0;31m---------------------------------------------------------------------------\u001b[0m",
      "\u001b[0;31mTypeError\u001b[0m                                 Traceback (most recent call last)",
      "\u001b[0;31mTypeError\u001b[0m: _handle_leaflet_event() takes 3 positional arguments but 4 were given"
     ]
    },
    {
     "ename": "TypeError",
     "evalue": "_handle_leaflet_event() takes 3 positional arguments but 4 were given",
     "output_type": "error",
     "traceback": [
      "\u001b[0;31m---------------------------------------------------------------------------\u001b[0m",
      "\u001b[0;31mTypeError\u001b[0m                                 Traceback (most recent call last)",
      "\u001b[0;31mTypeError\u001b[0m: _handle_leaflet_event() takes 3 positional arguments but 4 were given"
     ]
    },
    {
     "ename": "TypeError",
     "evalue": "_handle_leaflet_event() takes 3 positional arguments but 4 were given",
     "output_type": "error",
     "traceback": [
      "\u001b[0;31m---------------------------------------------------------------------------\u001b[0m",
      "\u001b[0;31mTypeError\u001b[0m                                 Traceback (most recent call last)",
      "\u001b[0;31mTypeError\u001b[0m: _handle_leaflet_event() takes 3 positional arguments but 4 were given"
     ]
    },
    {
     "ename": "TypeError",
     "evalue": "_handle_leaflet_event() takes 3 positional arguments but 4 were given",
     "output_type": "error",
     "traceback": [
      "\u001b[0;31m---------------------------------------------------------------------------\u001b[0m",
      "\u001b[0;31mTypeError\u001b[0m                                 Traceback (most recent call last)",
      "\u001b[0;31mTypeError\u001b[0m: _handle_leaflet_event() takes 3 positional arguments but 4 were given"
     ]
    },
    {
     "ename": "TypeError",
     "evalue": "_handle_leaflet_event() takes 3 positional arguments but 4 were given",
     "output_type": "error",
     "traceback": [
      "\u001b[0;31m---------------------------------------------------------------------------\u001b[0m",
      "\u001b[0;31mTypeError\u001b[0m                                 Traceback (most recent call last)",
      "\u001b[0;31mTypeError\u001b[0m: _handle_leaflet_event() takes 3 positional arguments but 4 were given"
     ]
    },
    {
     "ename": "TypeError",
     "evalue": "_handle_leaflet_event() takes 3 positional arguments but 4 were given",
     "output_type": "error",
     "traceback": [
      "\u001b[0;31m---------------------------------------------------------------------------\u001b[0m",
      "\u001b[0;31mTypeError\u001b[0m                                 Traceback (most recent call last)",
      "\u001b[0;31mTypeError\u001b[0m: _handle_leaflet_event() takes 3 positional arguments but 4 were given"
     ]
    },
    {
     "ename": "TypeError",
     "evalue": "_handle_leaflet_event() takes 3 positional arguments but 4 were given",
     "output_type": "error",
     "traceback": [
      "\u001b[0;31m---------------------------------------------------------------------------\u001b[0m",
      "\u001b[0;31mTypeError\u001b[0m                                 Traceback (most recent call last)",
      "\u001b[0;31mTypeError\u001b[0m: _handle_leaflet_event() takes 3 positional arguments but 4 were given"
     ]
    },
    {
     "ename": "TypeError",
     "evalue": "_handle_leaflet_event() takes 3 positional arguments but 4 were given",
     "output_type": "error",
     "traceback": [
      "\u001b[0;31m---------------------------------------------------------------------------\u001b[0m",
      "\u001b[0;31mTypeError\u001b[0m                                 Traceback (most recent call last)",
      "\u001b[0;31mTypeError\u001b[0m: _handle_leaflet_event() takes 3 positional arguments but 4 were given"
     ]
    },
    {
     "ename": "TypeError",
     "evalue": "_handle_leaflet_event() takes 3 positional arguments but 4 were given",
     "output_type": "error",
     "traceback": [
      "\u001b[0;31m---------------------------------------------------------------------------\u001b[0m",
      "\u001b[0;31mTypeError\u001b[0m                                 Traceback (most recent call last)",
      "\u001b[0;31mTypeError\u001b[0m: _handle_leaflet_event() takes 3 positional arguments but 4 were given"
     ]
    },
    {
     "ename": "TypeError",
     "evalue": "_handle_leaflet_event() takes 3 positional arguments but 4 were given",
     "output_type": "error",
     "traceback": [
      "\u001b[0;31m---------------------------------------------------------------------------\u001b[0m",
      "\u001b[0;31mTypeError\u001b[0m                                 Traceback (most recent call last)",
      "\u001b[0;31mTypeError\u001b[0m: _handle_leaflet_event() takes 3 positional arguments but 4 were given"
     ]
    },
    {
     "ename": "TypeError",
     "evalue": "_handle_leaflet_event() takes 3 positional arguments but 4 were given",
     "output_type": "error",
     "traceback": [
      "\u001b[0;31m---------------------------------------------------------------------------\u001b[0m",
      "\u001b[0;31mTypeError\u001b[0m                                 Traceback (most recent call last)",
      "\u001b[0;31mTypeError\u001b[0m: _handle_leaflet_event() takes 3 positional arguments but 4 were given"
     ]
    },
    {
     "ename": "TypeError",
     "evalue": "_handle_leaflet_event() takes 3 positional arguments but 4 were given",
     "output_type": "error",
     "traceback": [
      "\u001b[0;31m---------------------------------------------------------------------------\u001b[0m",
      "\u001b[0;31mTypeError\u001b[0m                                 Traceback (most recent call last)",
      "\u001b[0;31mTypeError\u001b[0m: _handle_leaflet_event() takes 3 positional arguments but 4 were given"
     ]
    },
    {
     "ename": "TypeError",
     "evalue": "_handle_leaflet_event() takes 3 positional arguments but 4 were given",
     "output_type": "error",
     "traceback": [
      "\u001b[0;31m---------------------------------------------------------------------------\u001b[0m",
      "\u001b[0;31mTypeError\u001b[0m                                 Traceback (most recent call last)",
      "\u001b[0;31mTypeError\u001b[0m: _handle_leaflet_event() takes 3 positional arguments but 4 were given"
     ]
    },
    {
     "ename": "TypeError",
     "evalue": "_handle_leaflet_event() takes 3 positional arguments but 4 were given",
     "output_type": "error",
     "traceback": [
      "\u001b[0;31m---------------------------------------------------------------------------\u001b[0m",
      "\u001b[0;31mTypeError\u001b[0m                                 Traceback (most recent call last)",
      "\u001b[0;31mTypeError\u001b[0m: _handle_leaflet_event() takes 3 positional arguments but 4 were given"
     ]
    },
    {
     "ename": "TypeError",
     "evalue": "_handle_leaflet_event() takes 3 positional arguments but 4 were given",
     "output_type": "error",
     "traceback": [
      "\u001b[0;31m---------------------------------------------------------------------------\u001b[0m",
      "\u001b[0;31mTypeError\u001b[0m                                 Traceback (most recent call last)",
      "\u001b[0;31mTypeError\u001b[0m: _handle_leaflet_event() takes 3 positional arguments but 4 were given"
     ]
    },
    {
     "ename": "TypeError",
     "evalue": "_handle_leaflet_event() takes 3 positional arguments but 4 were given",
     "output_type": "error",
     "traceback": [
      "\u001b[0;31m---------------------------------------------------------------------------\u001b[0m",
      "\u001b[0;31mTypeError\u001b[0m                                 Traceback (most recent call last)",
      "\u001b[0;31mTypeError\u001b[0m: _handle_leaflet_event() takes 3 positional arguments but 4 were given"
     ]
    },
    {
     "ename": "TypeError",
     "evalue": "_handle_leaflet_event() takes 3 positional arguments but 4 were given",
     "output_type": "error",
     "traceback": [
      "\u001b[0;31m---------------------------------------------------------------------------\u001b[0m",
      "\u001b[0;31mTypeError\u001b[0m                                 Traceback (most recent call last)",
      "\u001b[0;31mTypeError\u001b[0m: _handle_leaflet_event() takes 3 positional arguments but 4 were given"
     ]
    },
    {
     "ename": "TypeError",
     "evalue": "_handle_leaflet_event() takes 3 positional arguments but 4 were given",
     "output_type": "error",
     "traceback": [
      "\u001b[0;31m---------------------------------------------------------------------------\u001b[0m",
      "\u001b[0;31mTypeError\u001b[0m                                 Traceback (most recent call last)",
      "\u001b[0;31mTypeError\u001b[0m: _handle_leaflet_event() takes 3 positional arguments but 4 were given"
     ]
    },
    {
     "ename": "TypeError",
     "evalue": "_handle_leaflet_event() takes 3 positional arguments but 4 were given",
     "output_type": "error",
     "traceback": [
      "\u001b[0;31m---------------------------------------------------------------------------\u001b[0m",
      "\u001b[0;31mTypeError\u001b[0m                                 Traceback (most recent call last)",
      "\u001b[0;31mTypeError\u001b[0m: _handle_leaflet_event() takes 3 positional arguments but 4 were given"
     ]
    },
    {
     "ename": "TypeError",
     "evalue": "_handle_leaflet_event() takes 3 positional arguments but 4 were given",
     "output_type": "error",
     "traceback": [
      "\u001b[0;31m---------------------------------------------------------------------------\u001b[0m",
      "\u001b[0;31mTypeError\u001b[0m                                 Traceback (most recent call last)",
      "\u001b[0;31mTypeError\u001b[0m: _handle_leaflet_event() takes 3 positional arguments but 4 were given"
     ]
    },
    {
     "ename": "TypeError",
     "evalue": "_handle_leaflet_event() takes 3 positional arguments but 4 were given",
     "output_type": "error",
     "traceback": [
      "\u001b[0;31m---------------------------------------------------------------------------\u001b[0m",
      "\u001b[0;31mTypeError\u001b[0m                                 Traceback (most recent call last)",
      "\u001b[0;31mTypeError\u001b[0m: _handle_leaflet_event() takes 3 positional arguments but 4 were given"
     ]
    },
    {
     "ename": "TypeError",
     "evalue": "_handle_leaflet_event() takes 3 positional arguments but 4 were given",
     "output_type": "error",
     "traceback": [
      "\u001b[0;31m---------------------------------------------------------------------------\u001b[0m",
      "\u001b[0;31mTypeError\u001b[0m                                 Traceback (most recent call last)",
      "\u001b[0;31mTypeError\u001b[0m: _handle_leaflet_event() takes 3 positional arguments but 4 were given"
     ]
    },
    {
     "ename": "TypeError",
     "evalue": "_handle_leaflet_event() takes 3 positional arguments but 4 were given",
     "output_type": "error",
     "traceback": [
      "\u001b[0;31m---------------------------------------------------------------------------\u001b[0m",
      "\u001b[0;31mTypeError\u001b[0m                                 Traceback (most recent call last)",
      "\u001b[0;31mTypeError\u001b[0m: _handle_leaflet_event() takes 3 positional arguments but 4 were given"
     ]
    },
    {
     "ename": "TypeError",
     "evalue": "_handle_leaflet_event() takes 3 positional arguments but 4 were given",
     "output_type": "error",
     "traceback": [
      "\u001b[0;31m---------------------------------------------------------------------------\u001b[0m",
      "\u001b[0;31mTypeError\u001b[0m                                 Traceback (most recent call last)",
      "\u001b[0;31mTypeError\u001b[0m: _handle_leaflet_event() takes 3 positional arguments but 4 were given"
     ]
    },
    {
     "ename": "TypeError",
     "evalue": "_handle_leaflet_event() takes 3 positional arguments but 4 were given",
     "output_type": "error",
     "traceback": [
      "\u001b[0;31m---------------------------------------------------------------------------\u001b[0m",
      "\u001b[0;31mTypeError\u001b[0m                                 Traceback (most recent call last)",
      "\u001b[0;31mTypeError\u001b[0m: _handle_leaflet_event() takes 3 positional arguments but 4 were given"
     ]
    },
    {
     "ename": "TypeError",
     "evalue": "_handle_leaflet_event() takes 3 positional arguments but 4 were given",
     "output_type": "error",
     "traceback": [
      "\u001b[0;31m---------------------------------------------------------------------------\u001b[0m",
      "\u001b[0;31mTypeError\u001b[0m                                 Traceback (most recent call last)",
      "\u001b[0;31mTypeError\u001b[0m: _handle_leaflet_event() takes 3 positional arguments but 4 were given"
     ]
    },
    {
     "ename": "TypeError",
     "evalue": "_handle_leaflet_event() takes 3 positional arguments but 4 were given",
     "output_type": "error",
     "traceback": [
      "\u001b[0;31m---------------------------------------------------------------------------\u001b[0m",
      "\u001b[0;31mTypeError\u001b[0m                                 Traceback (most recent call last)",
      "\u001b[0;31mTypeError\u001b[0m: _handle_leaflet_event() takes 3 positional arguments but 4 were given"
     ]
    },
    {
     "ename": "TypeError",
     "evalue": "_handle_leaflet_event() takes 3 positional arguments but 4 were given",
     "output_type": "error",
     "traceback": [
      "\u001b[0;31m---------------------------------------------------------------------------\u001b[0m",
      "\u001b[0;31mTypeError\u001b[0m                                 Traceback (most recent call last)",
      "\u001b[0;31mTypeError\u001b[0m: _handle_leaflet_event() takes 3 positional arguments but 4 were given"
     ]
    },
    {
     "ename": "TypeError",
     "evalue": "_handle_leaflet_event() takes 3 positional arguments but 4 were given",
     "output_type": "error",
     "traceback": [
      "\u001b[0;31m---------------------------------------------------------------------------\u001b[0m",
      "\u001b[0;31mTypeError\u001b[0m                                 Traceback (most recent call last)",
      "\u001b[0;31mTypeError\u001b[0m: _handle_leaflet_event() takes 3 positional arguments but 4 were given"
     ]
    },
    {
     "ename": "TypeError",
     "evalue": "_handle_leaflet_event() takes 3 positional arguments but 4 were given",
     "output_type": "error",
     "traceback": [
      "\u001b[0;31m---------------------------------------------------------------------------\u001b[0m",
      "\u001b[0;31mTypeError\u001b[0m                                 Traceback (most recent call last)",
      "\u001b[0;31mTypeError\u001b[0m: _handle_leaflet_event() takes 3 positional arguments but 4 were given"
     ]
    },
    {
     "ename": "TypeError",
     "evalue": "_handle_leaflet_event() takes 3 positional arguments but 4 were given",
     "output_type": "error",
     "traceback": [
      "\u001b[0;31m---------------------------------------------------------------------------\u001b[0m",
      "\u001b[0;31mTypeError\u001b[0m                                 Traceback (most recent call last)",
      "\u001b[0;31mTypeError\u001b[0m: _handle_leaflet_event() takes 3 positional arguments but 4 were given"
     ]
    },
    {
     "ename": "TypeError",
     "evalue": "_handle_leaflet_event() takes 3 positional arguments but 4 were given",
     "output_type": "error",
     "traceback": [
      "\u001b[0;31m---------------------------------------------------------------------------\u001b[0m",
      "\u001b[0;31mTypeError\u001b[0m                                 Traceback (most recent call last)",
      "\u001b[0;31mTypeError\u001b[0m: _handle_leaflet_event() takes 3 positional arguments but 4 were given"
     ]
    },
    {
     "ename": "TypeError",
     "evalue": "_handle_leaflet_event() takes 3 positional arguments but 4 were given",
     "output_type": "error",
     "traceback": [
      "\u001b[0;31m---------------------------------------------------------------------------\u001b[0m",
      "\u001b[0;31mTypeError\u001b[0m                                 Traceback (most recent call last)",
      "\u001b[0;31mTypeError\u001b[0m: _handle_leaflet_event() takes 3 positional arguments but 4 were given"
     ]
    },
    {
     "ename": "TypeError",
     "evalue": "_handle_leaflet_event() takes 3 positional arguments but 4 were given",
     "output_type": "error",
     "traceback": [
      "\u001b[0;31m---------------------------------------------------------------------------\u001b[0m",
      "\u001b[0;31mTypeError\u001b[0m                                 Traceback (most recent call last)",
      "\u001b[0;31mTypeError\u001b[0m: _handle_leaflet_event() takes 3 positional arguments but 4 were given"
     ]
    },
    {
     "ename": "TypeError",
     "evalue": "_handle_leaflet_event() takes 3 positional arguments but 4 were given",
     "output_type": "error",
     "traceback": [
      "\u001b[0;31m---------------------------------------------------------------------------\u001b[0m",
      "\u001b[0;31mTypeError\u001b[0m                                 Traceback (most recent call last)",
      "\u001b[0;31mTypeError\u001b[0m: _handle_leaflet_event() takes 3 positional arguments but 4 were given"
     ]
    },
    {
     "ename": "TypeError",
     "evalue": "_handle_leaflet_event() takes 3 positional arguments but 4 were given",
     "output_type": "error",
     "traceback": [
      "\u001b[0;31m---------------------------------------------------------------------------\u001b[0m",
      "\u001b[0;31mTypeError\u001b[0m                                 Traceback (most recent call last)",
      "\u001b[0;31mTypeError\u001b[0m: _handle_leaflet_event() takes 3 positional arguments but 4 were given"
     ]
    },
    {
     "ename": "TypeError",
     "evalue": "_handle_leaflet_event() takes 3 positional arguments but 4 were given",
     "output_type": "error",
     "traceback": [
      "\u001b[0;31m---------------------------------------------------------------------------\u001b[0m",
      "\u001b[0;31mTypeError\u001b[0m                                 Traceback (most recent call last)",
      "\u001b[0;31mTypeError\u001b[0m: _handle_leaflet_event() takes 3 positional arguments but 4 were given"
     ]
    },
    {
     "ename": "TypeError",
     "evalue": "_handle_leaflet_event() takes 3 positional arguments but 4 were given",
     "output_type": "error",
     "traceback": [
      "\u001b[0;31m---------------------------------------------------------------------------\u001b[0m",
      "\u001b[0;31mTypeError\u001b[0m                                 Traceback (most recent call last)",
      "\u001b[0;31mTypeError\u001b[0m: _handle_leaflet_event() takes 3 positional arguments but 4 were given"
     ]
    },
    {
     "ename": "TypeError",
     "evalue": "_handle_leaflet_event() takes 3 positional arguments but 4 were given",
     "output_type": "error",
     "traceback": [
      "\u001b[0;31m---------------------------------------------------------------------------\u001b[0m",
      "\u001b[0;31mTypeError\u001b[0m                                 Traceback (most recent call last)",
      "\u001b[0;31mTypeError\u001b[0m: _handle_leaflet_event() takes 3 positional arguments but 4 were given"
     ]
    },
    {
     "ename": "TypeError",
     "evalue": "_handle_leaflet_event() takes 3 positional arguments but 4 were given",
     "output_type": "error",
     "traceback": [
      "\u001b[0;31m---------------------------------------------------------------------------\u001b[0m",
      "\u001b[0;31mTypeError\u001b[0m                                 Traceback (most recent call last)",
      "\u001b[0;31mTypeError\u001b[0m: _handle_leaflet_event() takes 3 positional arguments but 4 were given"
     ]
    },
    {
     "ename": "TypeError",
     "evalue": "_handle_leaflet_event() takes 3 positional arguments but 4 were given",
     "output_type": "error",
     "traceback": [
      "\u001b[0;31m---------------------------------------------------------------------------\u001b[0m",
      "\u001b[0;31mTypeError\u001b[0m                                 Traceback (most recent call last)",
      "\u001b[0;31mTypeError\u001b[0m: _handle_leaflet_event() takes 3 positional arguments but 4 were given"
     ]
    },
    {
     "ename": "TypeError",
     "evalue": "_handle_leaflet_event() takes 3 positional arguments but 4 were given",
     "output_type": "error",
     "traceback": [
      "\u001b[0;31m---------------------------------------------------------------------------\u001b[0m",
      "\u001b[0;31mTypeError\u001b[0m                                 Traceback (most recent call last)",
      "\u001b[0;31mTypeError\u001b[0m: _handle_leaflet_event() takes 3 positional arguments but 4 were given"
     ]
    },
    {
     "ename": "TypeError",
     "evalue": "_handle_leaflet_event() takes 3 positional arguments but 4 were given",
     "output_type": "error",
     "traceback": [
      "\u001b[0;31m---------------------------------------------------------------------------\u001b[0m",
      "\u001b[0;31mTypeError\u001b[0m                                 Traceback (most recent call last)",
      "\u001b[0;31mTypeError\u001b[0m: _handle_leaflet_event() takes 3 positional arguments but 4 were given"
     ]
    }
   ],
   "source": [
    "from ipyleaflet import Map\n",
    "Map(center=[30.684500, 103.819000], zoom=17)"
   ]
  },
  {
   "cell_type": "code",
   "execution_count": null,
   "metadata": {},
   "outputs": [],
   "source": []
  }
 ],
 "metadata": {
  "kernelspec": {
   "display_name": "Python 3",
   "language": "python",
   "name": "python3"
  },
  "language_info": {
   "codemirror_mode": {
    "name": "ipython",
    "version": 3
   },
   "file_extension": ".py",
   "mimetype": "text/x-python",
   "name": "python",
   "nbconvert_exporter": "python",
   "pygments_lexer": "ipython3",
   "version": "3.6.2"
  }
 },
 "nbformat": 4,
 "nbformat_minor": 2
}
